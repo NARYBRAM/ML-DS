{
 "cells": [
  {
   "cell_type": "code",
   "execution_count": 1,
   "metadata": {},
   "outputs": [],
   "source": [
    "#импортируем нужные нам библиотеки\n",
    "import warnings                                 \n",
    "warnings.filterwarnings('ignore')\n",
    "#импортируем нужные нам библиотеки\n",
    "import numpy as np                              \n",
    "import pandas as pd                             \n",
    "import matplotlib.pyplot as plt                  \n",
    "import seaborn as sns                                         \n",
    "\n",
    "\n",
    "from plotly.offline import init_notebook_mode, iplot\n",
    "from plotly import graph_objs as go\n",
    "\n",
    "%matplotlib inline\n",
    "from sklearn.model_selection import TimeSeriesSplit, GridSearchCV\n",
    "\n",
    "#загружаем данные\n",
    "data = pd.read_excel('005_example.xlsx', axis=1)"
   ]
  },
  {
   "cell_type": "code",
   "execution_count": 2,
   "metadata": {},
   "outputs": [],
   "source": [
    "#загружаем модель FbPropher\n",
    "from fbprophet import Prophet"
   ]
  },
  {
   "cell_type": "code",
   "execution_count": 3,
   "metadata": {
    "scrolled": true
   },
   "outputs": [
    {
     "data": {
      "text/html": [
       "<div>\n",
       "<style scoped>\n",
       "    .dataframe tbody tr th:only-of-type {\n",
       "        vertical-align: middle;\n",
       "    }\n",
       "\n",
       "    .dataframe tbody tr th {\n",
       "        vertical-align: top;\n",
       "    }\n",
       "\n",
       "    .dataframe thead th {\n",
       "        text-align: right;\n",
       "    }\n",
       "</style>\n",
       "<table border=\"1\" class=\"dataframe\">\n",
       "  <thead>\n",
       "    <tr style=\"text-align: right;\">\n",
       "      <th></th>\n",
       "      <th>date_id</th>\n",
       "      <th>good_id</th>\n",
       "      <th>ship_store_id</th>\n",
       "      <th>price</th>\n",
       "      <th>promo</th>\n",
       "      <th>sale</th>\n",
       "      <th>promo_price</th>\n",
       "      <th>holiday</th>\n",
       "      <th>owner_id</th>\n",
       "    </tr>\n",
       "  </thead>\n",
       "  <tbody>\n",
       "    <tr>\n",
       "      <td>0</td>\n",
       "      <td>2018-09-16</td>\n",
       "      <td>149045</td>\n",
       "      <td>40</td>\n",
       "      <td>699</td>\n",
       "      <td>0</td>\n",
       "      <td>1</td>\n",
       "      <td>699</td>\n",
       "      <td>0</td>\n",
       "      <td>2</td>\n",
       "    </tr>\n",
       "    <tr>\n",
       "      <td>1</td>\n",
       "      <td>2018-03-17</td>\n",
       "      <td>149045</td>\n",
       "      <td>40</td>\n",
       "      <td>599</td>\n",
       "      <td>0</td>\n",
       "      <td>0</td>\n",
       "      <td>599</td>\n",
       "      <td>0</td>\n",
       "      <td>2</td>\n",
       "    </tr>\n",
       "    <tr>\n",
       "      <td>2</td>\n",
       "      <td>2018-03-23</td>\n",
       "      <td>149045</td>\n",
       "      <td>40</td>\n",
       "      <td>599</td>\n",
       "      <td>0</td>\n",
       "      <td>0</td>\n",
       "      <td>599</td>\n",
       "      <td>0</td>\n",
       "      <td>2</td>\n",
       "    </tr>\n",
       "    <tr>\n",
       "      <td>3</td>\n",
       "      <td>2017-07-25</td>\n",
       "      <td>149045</td>\n",
       "      <td>40</td>\n",
       "      <td>599</td>\n",
       "      <td>0</td>\n",
       "      <td>2</td>\n",
       "      <td>599</td>\n",
       "      <td>0</td>\n",
       "      <td>2</td>\n",
       "    </tr>\n",
       "    <tr>\n",
       "      <td>4</td>\n",
       "      <td>2018-10-04</td>\n",
       "      <td>173544</td>\n",
       "      <td>13</td>\n",
       "      <td>1399</td>\n",
       "      <td>0</td>\n",
       "      <td>0</td>\n",
       "      <td>1399</td>\n",
       "      <td>0</td>\n",
       "      <td>2</td>\n",
       "    </tr>\n",
       "    <tr>\n",
       "      <td>...</td>\n",
       "      <td>...</td>\n",
       "      <td>...</td>\n",
       "      <td>...</td>\n",
       "      <td>...</td>\n",
       "      <td>...</td>\n",
       "      <td>...</td>\n",
       "      <td>...</td>\n",
       "      <td>...</td>\n",
       "      <td>...</td>\n",
       "    </tr>\n",
       "    <tr>\n",
       "      <td>529572</td>\n",
       "      <td>2018-04-01</td>\n",
       "      <td>149079</td>\n",
       "      <td>77</td>\n",
       "      <td>399</td>\n",
       "      <td>0</td>\n",
       "      <td>6</td>\n",
       "      <td>0</td>\n",
       "      <td>0</td>\n",
       "      <td>9</td>\n",
       "    </tr>\n",
       "    <tr>\n",
       "      <td>529573</td>\n",
       "      <td>2018-03-29</td>\n",
       "      <td>149079</td>\n",
       "      <td>77</td>\n",
       "      <td>399</td>\n",
       "      <td>0</td>\n",
       "      <td>2</td>\n",
       "      <td>0</td>\n",
       "      <td>0</td>\n",
       "      <td>9</td>\n",
       "    </tr>\n",
       "    <tr>\n",
       "      <td>529574</td>\n",
       "      <td>2018-10-01</td>\n",
       "      <td>149079</td>\n",
       "      <td>77</td>\n",
       "      <td>499</td>\n",
       "      <td>0</td>\n",
       "      <td>0</td>\n",
       "      <td>0</td>\n",
       "      <td>0</td>\n",
       "      <td>9</td>\n",
       "    </tr>\n",
       "    <tr>\n",
       "      <td>529575</td>\n",
       "      <td>2019-05-27</td>\n",
       "      <td>149079</td>\n",
       "      <td>77</td>\n",
       "      <td>499</td>\n",
       "      <td>0</td>\n",
       "      <td>0</td>\n",
       "      <td>0</td>\n",
       "      <td>0</td>\n",
       "      <td>9</td>\n",
       "    </tr>\n",
       "    <tr>\n",
       "      <td>529576</td>\n",
       "      <td>2019-11-29</td>\n",
       "      <td>149079</td>\n",
       "      <td>77</td>\n",
       "      <td>499</td>\n",
       "      <td>1</td>\n",
       "      <td>3</td>\n",
       "      <td>399</td>\n",
       "      <td>0</td>\n",
       "      <td>9</td>\n",
       "    </tr>\n",
       "  </tbody>\n",
       "</table>\n",
       "<p>529577 rows × 9 columns</p>\n",
       "</div>"
      ],
      "text/plain": [
       "          date_id  good_id  ship_store_id  price  promo  sale  promo_price  \\\n",
       "0      2018-09-16   149045             40    699      0     1          699   \n",
       "1      2018-03-17   149045             40    599      0     0          599   \n",
       "2      2018-03-23   149045             40    599      0     0          599   \n",
       "3      2017-07-25   149045             40    599      0     2          599   \n",
       "4      2018-10-04   173544             13   1399      0     0         1399   \n",
       "...           ...      ...            ...    ...    ...   ...          ...   \n",
       "529572 2018-04-01   149079             77    399      0     6            0   \n",
       "529573 2018-03-29   149079             77    399      0     2            0   \n",
       "529574 2018-10-01   149079             77    499      0     0            0   \n",
       "529575 2019-05-27   149079             77    499      0     0            0   \n",
       "529576 2019-11-29   149079             77    499      1     3          399   \n",
       "\n",
       "        holiday  owner_id  \n",
       "0             0         2  \n",
       "1             0         2  \n",
       "2             0         2  \n",
       "3             0         2  \n",
       "4             0         2  \n",
       "...         ...       ...  \n",
       "529572        0         9  \n",
       "529573        0         9  \n",
       "529574        0         9  \n",
       "529575        0         9  \n",
       "529576        0         9  \n",
       "\n",
       "[529577 rows x 9 columns]"
      ]
     },
     "execution_count": 3,
     "metadata": {},
     "output_type": "execute_result"
    }
   ],
   "source": [
    "#данные\n",
    "data"
   ]
  },
  {
   "cell_type": "code",
   "execution_count": 4,
   "metadata": {},
   "outputs": [],
   "source": [
    "data['year'] = pd.DatetimeIndex(data['date_id']).year\n",
    "data['month'] = pd.DatetimeIndex(data['date_id']).month\n",
    "data['day'] = pd.DatetimeIndex(data['date_id']).day\n",
    "data['WeekOfYear'] = pd.DatetimeIndex(data['date_id']).weekofyear"
   ]
  },
  {
   "cell_type": "code",
   "execution_count": 5,
   "metadata": {},
   "outputs": [
    {
     "data": {
      "text/html": [
       "<div>\n",
       "<style scoped>\n",
       "    .dataframe tbody tr th:only-of-type {\n",
       "        vertical-align: middle;\n",
       "    }\n",
       "\n",
       "    .dataframe tbody tr th {\n",
       "        vertical-align: top;\n",
       "    }\n",
       "\n",
       "    .dataframe thead th {\n",
       "        text-align: right;\n",
       "    }\n",
       "</style>\n",
       "<table border=\"1\" class=\"dataframe\">\n",
       "  <thead>\n",
       "    <tr style=\"text-align: right;\">\n",
       "      <th></th>\n",
       "      <th>ds</th>\n",
       "      <th>y</th>\n",
       "    </tr>\n",
       "  </thead>\n",
       "  <tbody>\n",
       "    <tr>\n",
       "      <td>0</td>\n",
       "      <td>2019-12-01</td>\n",
       "      <td>906</td>\n",
       "    </tr>\n",
       "    <tr>\n",
       "      <td>1</td>\n",
       "      <td>2019-11-30</td>\n",
       "      <td>1292</td>\n",
       "    </tr>\n",
       "    <tr>\n",
       "      <td>2</td>\n",
       "      <td>2019-11-29</td>\n",
       "      <td>733</td>\n",
       "    </tr>\n",
       "    <tr>\n",
       "      <td>3</td>\n",
       "      <td>2019-11-28</td>\n",
       "      <td>469</td>\n",
       "    </tr>\n",
       "    <tr>\n",
       "      <td>4</td>\n",
       "      <td>2019-11-27</td>\n",
       "      <td>512</td>\n",
       "    </tr>\n",
       "    <tr>\n",
       "      <td>...</td>\n",
       "      <td>...</td>\n",
       "      <td>...</td>\n",
       "    </tr>\n",
       "    <tr>\n",
       "      <td>1029</td>\n",
       "      <td>2017-02-05</td>\n",
       "      <td>147</td>\n",
       "    </tr>\n",
       "    <tr>\n",
       "      <td>1030</td>\n",
       "      <td>2017-02-04</td>\n",
       "      <td>154</td>\n",
       "    </tr>\n",
       "    <tr>\n",
       "      <td>1031</td>\n",
       "      <td>2017-02-03</td>\n",
       "      <td>70</td>\n",
       "    </tr>\n",
       "    <tr>\n",
       "      <td>1032</td>\n",
       "      <td>2017-02-02</td>\n",
       "      <td>59</td>\n",
       "    </tr>\n",
       "    <tr>\n",
       "      <td>1033</td>\n",
       "      <td>2017-02-01</td>\n",
       "      <td>45</td>\n",
       "    </tr>\n",
       "  </tbody>\n",
       "</table>\n",
       "<p>1034 rows × 2 columns</p>\n",
       "</div>"
      ],
      "text/plain": [
       "             ds     y\n",
       "0    2019-12-01   906\n",
       "1    2019-11-30  1292\n",
       "2    2019-11-29   733\n",
       "3    2019-11-28   469\n",
       "4    2019-11-27   512\n",
       "...         ...   ...\n",
       "1029 2017-02-05   147\n",
       "1030 2017-02-04   154\n",
       "1031 2017-02-03    70\n",
       "1032 2017-02-02    59\n",
       "1033 2017-02-01    45\n",
       "\n",
       "[1034 rows x 2 columns]"
      ]
     },
     "execution_count": 5,
     "metadata": {},
     "output_type": "execute_result"
    }
   ],
   "source": [
    "#группируем данные по неделям\n",
    "table = data.groupby('date_id')['sale'].sum()\n",
    "#сортируем данные от самых поздних дат до самых ранних\n",
    "table = table.sort_index(ascending = False)\n",
    "#создаем датафрейм\n",
    "df = pd.DataFrame({'ds': table.index, 'y': table.values})\n",
    "df"
   ]
  },
  {
   "cell_type": "code",
   "execution_count": 6,
   "metadata": {},
   "outputs": [],
   "source": [
    "#импортируем модуль datetime\n",
    "import datetime"
   ]
  },
  {
   "cell_type": "code",
   "execution_count": 7,
   "metadata": {},
   "outputs": [],
   "source": [
    "#Приступаем к созданию тестовой и обучающей выборки. \n",
    "#В описании задания сказано, что модель должна рассчитывать прогноз на 45, 46, 47, 48 календарные недели\n",
    "#разбиваем нашу выбору по нужному временному интервалу\n",
    "split_date = datetime.datetime.strptime(\"2019-11-01\", '%Y-%m-%d')"
   ]
  },
  {
   "cell_type": "code",
   "execution_count": 8,
   "metadata": {},
   "outputs": [],
   "source": [
    "#Создаем тренировочную и тестовую выборку данных\n",
    "d_train = df[df['ds'] < split_date]\n",
    "\n",
    "d_test = df[df['ds'] >= split_date]"
   ]
  },
  {
   "cell_type": "code",
   "execution_count": 9,
   "metadata": {},
   "outputs": [],
   "source": [
    "#У модели Facebook Prophet существует ряд гиперпараметров, \n",
    "#настройка оптимальных значений которых позволит увеличить эффективность прогнозирования\n",
    "#однако при работе с моделью Prophet'а возникает две трудности\n",
    "\n",
    "\n",
    "#Первая трудность заключается в том, что создание прогноза на уровне \"номер магазина + номер товара\" занимаем большое количество времени\n",
    "#Если добавить к этому еще задачу, при которой модель также будет подбирать оптимальные гиперпараметры для каждого прогноза, \n",
    "#то время работы модели также увеличится в разы. К тому же мой компьютер довольно слабый для поставленных задача. \n",
    "#Поэтому было принято решение подобрать оптимальные на общих данных, агрегированных по неделям, и уже потом их использовать для каждой модели"
   ]
  },
  {
   "cell_type": "code",
   "execution_count": 10,
   "metadata": {},
   "outputs": [],
   "source": [
    "#Загружаем нашу модель\n",
    "my_model = Prophet(interval_width = 0.95, yearly_seasonality=True, daily_seasonality=True, \n",
    "                   changepoint_prior_scale=6.5, n_changepoints = 37)"
   ]
  },
  {
   "cell_type": "code",
   "execution_count": 11,
   "metadata": {},
   "outputs": [
    {
     "name": "stderr",
     "output_type": "stream",
     "text": [
      "INFO:numexpr.utils:NumExpr defaulting to 4 threads.\n"
     ]
    },
    {
     "data": {
      "text/plain": [
       "<fbprophet.forecaster.Prophet at 0x2ad81793288>"
      ]
     },
     "execution_count": 11,
     "metadata": {},
     "output_type": "execute_result"
    }
   ],
   "source": [
    "#Фитим модель на данных\n",
    "my_model.fit(d_train)"
   ]
  },
  {
   "cell_type": "code",
   "execution_count": 12,
   "metadata": {},
   "outputs": [],
   "source": [
    "#Прогнозируем по тестовым данным\n",
    "forecast = my_model.predict(d_test)"
   ]
  },
  {
   "cell_type": "code",
   "execution_count": 13,
   "metadata": {},
   "outputs": [
    {
     "data": {
      "text/plain": [
       "<matplotlib.legend.Legend at 0x2ad817bca88>"
      ]
     },
     "execution_count": 13,
     "metadata": {},
     "output_type": "execute_result"
    },
    {
     "data": {
      "image/png": "[encoded data removed]",
      "text/plain": [
       "<Figure size 432x288 with 1 Axes>"
      ]
     },
     "metadata": {
      "needs_background": "light"
     },
     "output_type": "display_data"
    }
   ],
   "source": [
    "#Строим простой график факта к прогнозу\n",
    "fc = forecast[['ds', 'yhat']].rename(columns = {'Date': 'ds', 'Forecast': 'yhat'})\n",
    "plt.plot(d_train['ds'], d_train['y'], linestyle='-', color='b', label='train')\n",
    "plt.plot(d_test['ds'], d_test['y'], linestyle='-', color='g', label='test')\n",
    "plt.plot(forecast['ds'], forecast['yhat'], linestyle='-', color='r', label='forecast')\n",
    "plt.legend()"
   ]
  },
  {
   "cell_type": "code",
   "execution_count": 14,
   "metadata": {},
   "outputs": [
    {
     "data": {
      "text/html": [
       "<div>\n",
       "<style scoped>\n",
       "    .dataframe tbody tr th:only-of-type {\n",
       "        vertical-align: middle;\n",
       "    }\n",
       "\n",
       "    .dataframe tbody tr th {\n",
       "        vertical-align: top;\n",
       "    }\n",
       "\n",
       "    .dataframe thead th {\n",
       "        text-align: right;\n",
       "    }\n",
       "</style>\n",
       "<table border=\"1\" class=\"dataframe\">\n",
       "  <thead>\n",
       "    <tr style=\"text-align: right;\">\n",
       "      <th></th>\n",
       "      <th>ds</th>\n",
       "      <th>y</th>\n",
       "      <th>forecast</th>\n",
       "      <th>MAPE</th>\n",
       "    </tr>\n",
       "  </thead>\n",
       "  <tbody>\n",
       "    <tr>\n",
       "      <td>0</td>\n",
       "      <td>2019-12-01</td>\n",
       "      <td>906</td>\n",
       "      <td>653.288064</td>\n",
       "      <td>27.893150</td>\n",
       "    </tr>\n",
       "    <tr>\n",
       "      <td>1</td>\n",
       "      <td>2019-11-30</td>\n",
       "      <td>1292</td>\n",
       "      <td>931.381072</td>\n",
       "      <td>27.911682</td>\n",
       "    </tr>\n",
       "    <tr>\n",
       "      <td>2</td>\n",
       "      <td>2019-11-29</td>\n",
       "      <td>733</td>\n",
       "      <td>878.899724</td>\n",
       "      <td>19.904464</td>\n",
       "    </tr>\n",
       "    <tr>\n",
       "      <td>3</td>\n",
       "      <td>2019-11-28</td>\n",
       "      <td>469</td>\n",
       "      <td>549.726052</td>\n",
       "      <td>17.212378</td>\n",
       "    </tr>\n",
       "    <tr>\n",
       "      <td>4</td>\n",
       "      <td>2019-11-27</td>\n",
       "      <td>512</td>\n",
       "      <td>542.875831</td>\n",
       "      <td>6.030436</td>\n",
       "    </tr>\n",
       "    <tr>\n",
       "      <td>5</td>\n",
       "      <td>2019-11-26</td>\n",
       "      <td>469</td>\n",
       "      <td>547.636738</td>\n",
       "      <td>16.766895</td>\n",
       "    </tr>\n",
       "    <tr>\n",
       "      <td>6</td>\n",
       "      <td>2019-11-25</td>\n",
       "      <td>424</td>\n",
       "      <td>541.769834</td>\n",
       "      <td>27.775904</td>\n",
       "    </tr>\n",
       "    <tr>\n",
       "      <td>7</td>\n",
       "      <td>2019-11-24</td>\n",
       "      <td>1025</td>\n",
       "      <td>556.648780</td>\n",
       "      <td>45.692802</td>\n",
       "    </tr>\n",
       "    <tr>\n",
       "      <td>8</td>\n",
       "      <td>2019-11-23</td>\n",
       "      <td>1118</td>\n",
       "      <td>842.870392</td>\n",
       "      <td>24.609088</td>\n",
       "    </tr>\n",
       "    <tr>\n",
       "      <td>9</td>\n",
       "      <td>2019-11-22</td>\n",
       "      <td>567</td>\n",
       "      <td>798.915372</td>\n",
       "      <td>40.902182</td>\n",
       "    </tr>\n",
       "    <tr>\n",
       "      <td>10</td>\n",
       "      <td>2019-11-21</td>\n",
       "      <td>331</td>\n",
       "      <td>478.465728</td>\n",
       "      <td>44.551580</td>\n",
       "    </tr>\n",
       "    <tr>\n",
       "      <td>11</td>\n",
       "      <td>2019-11-20</td>\n",
       "      <td>383</td>\n",
       "      <td>480.342123</td>\n",
       "      <td>25.415698</td>\n",
       "    </tr>\n",
       "    <tr>\n",
       "      <td>12</td>\n",
       "      <td>2019-11-19</td>\n",
       "      <td>391</td>\n",
       "      <td>493.646553</td>\n",
       "      <td>26.252315</td>\n",
       "    </tr>\n",
       "    <tr>\n",
       "      <td>13</td>\n",
       "      <td>2019-11-18</td>\n",
       "      <td>331</td>\n",
       "      <td>495.968072</td>\n",
       "      <td>49.839297</td>\n",
       "    </tr>\n",
       "    <tr>\n",
       "      <td>14</td>\n",
       "      <td>2019-11-17</td>\n",
       "      <td>780</td>\n",
       "      <td>518.525857</td>\n",
       "      <td>33.522326</td>\n",
       "    </tr>\n",
       "    <tr>\n",
       "      <td>15</td>\n",
       "      <td>2019-11-16</td>\n",
       "      <td>885</td>\n",
       "      <td>811.783127</td>\n",
       "      <td>8.273093</td>\n",
       "    </tr>\n",
       "    <tr>\n",
       "      <td>16</td>\n",
       "      <td>2019-11-15</td>\n",
       "      <td>429</td>\n",
       "      <td>774.110684</td>\n",
       "      <td>80.445381</td>\n",
       "    </tr>\n",
       "    <tr>\n",
       "      <td>17</td>\n",
       "      <td>2019-11-14</td>\n",
       "      <td>327</td>\n",
       "      <td>459.106506</td>\n",
       "      <td>40.399543</td>\n",
       "    </tr>\n",
       "    <tr>\n",
       "      <td>18</td>\n",
       "      <td>2019-11-13</td>\n",
       "      <td>442</td>\n",
       "      <td>465.534577</td>\n",
       "      <td>5.324565</td>\n",
       "    </tr>\n",
       "    <tr>\n",
       "      <td>19</td>\n",
       "      <td>2019-11-12</td>\n",
       "      <td>362</td>\n",
       "      <td>482.468337</td>\n",
       "      <td>33.278546</td>\n",
       "    </tr>\n",
       "    <tr>\n",
       "      <td>20</td>\n",
       "      <td>2019-11-11</td>\n",
       "      <td>362</td>\n",
       "      <td>487.496430</td>\n",
       "      <td>34.667522</td>\n",
       "    </tr>\n",
       "    <tr>\n",
       "      <td>21</td>\n",
       "      <td>2019-11-10</td>\n",
       "      <td>827</td>\n",
       "      <td>511.865057</td>\n",
       "      <td>38.105797</td>\n",
       "    </tr>\n",
       "    <tr>\n",
       "      <td>22</td>\n",
       "      <td>2019-11-09</td>\n",
       "      <td>854</td>\n",
       "      <td>806.090468</td>\n",
       "      <td>5.610015</td>\n",
       "    </tr>\n",
       "    <tr>\n",
       "      <td>23</td>\n",
       "      <td>2019-11-08</td>\n",
       "      <td>390</td>\n",
       "      <td>768.620387</td>\n",
       "      <td>97.082151</td>\n",
       "    </tr>\n",
       "    <tr>\n",
       "      <td>24</td>\n",
       "      <td>2019-11-07</td>\n",
       "      <td>359</td>\n",
       "      <td>453.150868</td>\n",
       "      <td>26.225868</td>\n",
       "    </tr>\n",
       "    <tr>\n",
       "      <td>25</td>\n",
       "      <td>2019-11-06</td>\n",
       "      <td>353</td>\n",
       "      <td>458.561830</td>\n",
       "      <td>29.904201</td>\n",
       "    </tr>\n",
       "    <tr>\n",
       "      <td>26</td>\n",
       "      <td>2019-11-05</td>\n",
       "      <td>315</td>\n",
       "      <td>474.056745</td>\n",
       "      <td>50.494205</td>\n",
       "    </tr>\n",
       "    <tr>\n",
       "      <td>27</td>\n",
       "      <td>2019-11-04</td>\n",
       "      <td>727</td>\n",
       "      <td>477.364247</td>\n",
       "      <td>34.337793</td>\n",
       "    </tr>\n",
       "    <tr>\n",
       "      <td>28</td>\n",
       "      <td>2019-11-03</td>\n",
       "      <td>905</td>\n",
       "      <td>499.876086</td>\n",
       "      <td>44.765073</td>\n",
       "    </tr>\n",
       "    <tr>\n",
       "      <td>29</td>\n",
       "      <td>2019-11-02</td>\n",
       "      <td>934</td>\n",
       "      <td>792.255072</td>\n",
       "      <td>15.176116</td>\n",
       "    </tr>\n",
       "    <tr>\n",
       "      <td>30</td>\n",
       "      <td>2019-11-01</td>\n",
       "      <td>450</td>\n",
       "      <td>753.091916</td>\n",
       "      <td>67.353759</td>\n",
       "    </tr>\n",
       "  </tbody>\n",
       "</table>\n",
       "</div>"
      ],
      "text/plain": [
       "           ds     y    forecast       MAPE\n",
       "0  2019-12-01   906  653.288064  27.893150\n",
       "1  2019-11-30  1292  931.381072  27.911682\n",
       "2  2019-11-29   733  878.899724  19.904464\n",
       "3  2019-11-28   469  549.726052  17.212378\n",
       "4  2019-11-27   512  542.875831   6.030436\n",
       "5  2019-11-26   469  547.636738  16.766895\n",
       "6  2019-11-25   424  541.769834  27.775904\n",
       "7  2019-11-24  1025  556.648780  45.692802\n",
       "8  2019-11-23  1118  842.870392  24.609088\n",
       "9  2019-11-22   567  798.915372  40.902182\n",
       "10 2019-11-21   331  478.465728  44.551580\n",
       "11 2019-11-20   383  480.342123  25.415698\n",
       "12 2019-11-19   391  493.646553  26.252315\n",
       "13 2019-11-18   331  495.968072  49.839297\n",
       "14 2019-11-17   780  518.525857  33.522326\n",
       "15 2019-11-16   885  811.783127   8.273093\n",
       "16 2019-11-15   429  774.110684  80.445381\n",
       "17 2019-11-14   327  459.106506  40.399543\n",
       "18 2019-11-13   442  465.534577   5.324565\n",
       "19 2019-11-12   362  482.468337  33.278546\n",
       "20 2019-11-11   362  487.496430  34.667522\n",
       "21 2019-11-10   827  511.865057  38.105797\n",
       "22 2019-11-09   854  806.090468   5.610015\n",
       "23 2019-11-08   390  768.620387  97.082151\n",
       "24 2019-11-07   359  453.150868  26.225868\n",
       "25 2019-11-06   353  458.561830  29.904201\n",
       "26 2019-11-05   315  474.056745  50.494205\n",
       "27 2019-11-04   727  477.364247  34.337793\n",
       "28 2019-11-03   905  499.876086  44.765073\n",
       "29 2019-11-02   934  792.255072  15.176116\n",
       "30 2019-11-01   450  753.091916  67.353759"
      ]
     },
     "execution_count": 14,
     "metadata": {},
     "output_type": "execute_result"
    }
   ],
   "source": [
    "#Создаем датафрейм с сравнением данных по прогнозу и факту и высчитываем MAPE\n",
    "results = d_test.copy()\n",
    "results['forecast'] = forecast['yhat'].values\n",
    "results['MAPE'] = abs((results['y'] - results['forecast']) / results['y'] * 100)\n",
    "results"
   ]
  },
  {
   "cell_type": "code",
   "execution_count": 15,
   "metadata": {},
   "outputs": [
    {
     "data": {
      "text/plain": [
       "33.73302666013747"
      ]
     },
     "execution_count": 15,
     "metadata": {},
     "output_type": "execute_result"
    }
   ],
   "source": [
    "#Показатель MAPE составил 33.73. Это лучший результат с установленным гиперпараметром\n",
    "mape = results['MAPE'].sum()/31\n",
    "mape"
   ]
  },
  {
   "cell_type": "code",
   "execution_count": 16,
   "metadata": {},
   "outputs": [
    {
     "data": {
      "text/html": [
       "<div>\n",
       "<style scoped>\n",
       "    .dataframe tbody tr th:only-of-type {\n",
       "        vertical-align: middle;\n",
       "    }\n",
       "\n",
       "    .dataframe tbody tr th {\n",
       "        vertical-align: top;\n",
       "    }\n",
       "\n",
       "    .dataframe thead th {\n",
       "        text-align: right;\n",
       "    }\n",
       "</style>\n",
       "<table border=\"1\" class=\"dataframe\">\n",
       "  <thead>\n",
       "    <tr style=\"text-align: right;\">\n",
       "      <th></th>\n",
       "      <th>yhat</th>\n",
       "      <th>yhat_lower</th>\n",
       "      <th>yhat_upper</th>\n",
       "      <th>y</th>\n",
       "      <th>forecast</th>\n",
       "      <th>MAPE</th>\n",
       "    </tr>\n",
       "    <tr>\n",
       "      <th>ds</th>\n",
       "      <th></th>\n",
       "      <th></th>\n",
       "      <th></th>\n",
       "      <th></th>\n",
       "      <th></th>\n",
       "      <th></th>\n",
       "    </tr>\n",
       "  </thead>\n",
       "  <tbody>\n",
       "    <tr>\n",
       "      <td>2019-11-01</td>\n",
       "      <td>653.288064</td>\n",
       "      <td>384.563517</td>\n",
       "      <td>894.624950</td>\n",
       "      <td>450</td>\n",
       "      <td>753.091916</td>\n",
       "      <td>67.353759</td>\n",
       "    </tr>\n",
       "    <tr>\n",
       "      <td>2019-11-02</td>\n",
       "      <td>931.381072</td>\n",
       "      <td>672.902898</td>\n",
       "      <td>1208.258849</td>\n",
       "      <td>934</td>\n",
       "      <td>792.255072</td>\n",
       "      <td>15.176116</td>\n",
       "    </tr>\n",
       "    <tr>\n",
       "      <td>2019-11-03</td>\n",
       "      <td>878.899724</td>\n",
       "      <td>614.373443</td>\n",
       "      <td>1128.103607</td>\n",
       "      <td>905</td>\n",
       "      <td>499.876086</td>\n",
       "      <td>44.765073</td>\n",
       "    </tr>\n",
       "    <tr>\n",
       "      <td>2019-11-04</td>\n",
       "      <td>549.726052</td>\n",
       "      <td>307.683259</td>\n",
       "      <td>798.437849</td>\n",
       "      <td>727</td>\n",
       "      <td>477.364247</td>\n",
       "      <td>34.337793</td>\n",
       "    </tr>\n",
       "    <tr>\n",
       "      <td>2019-11-05</td>\n",
       "      <td>542.875831</td>\n",
       "      <td>281.973930</td>\n",
       "      <td>805.234357</td>\n",
       "      <td>315</td>\n",
       "      <td>474.056745</td>\n",
       "      <td>50.494205</td>\n",
       "    </tr>\n",
       "    <tr>\n",
       "      <td>2019-11-06</td>\n",
       "      <td>547.636738</td>\n",
       "      <td>280.892014</td>\n",
       "      <td>806.107819</td>\n",
       "      <td>353</td>\n",
       "      <td>458.561830</td>\n",
       "      <td>29.904201</td>\n",
       "    </tr>\n",
       "    <tr>\n",
       "      <td>2019-11-07</td>\n",
       "      <td>541.769834</td>\n",
       "      <td>283.544796</td>\n",
       "      <td>806.758500</td>\n",
       "      <td>359</td>\n",
       "      <td>453.150868</td>\n",
       "      <td>26.225868</td>\n",
       "    </tr>\n",
       "    <tr>\n",
       "      <td>2019-11-08</td>\n",
       "      <td>556.648780</td>\n",
       "      <td>292.920581</td>\n",
       "      <td>815.793531</td>\n",
       "      <td>390</td>\n",
       "      <td>768.620387</td>\n",
       "      <td>97.082151</td>\n",
       "    </tr>\n",
       "    <tr>\n",
       "      <td>2019-11-09</td>\n",
       "      <td>842.870392</td>\n",
       "      <td>592.734951</td>\n",
       "      <td>1095.147306</td>\n",
       "      <td>854</td>\n",
       "      <td>806.090468</td>\n",
       "      <td>5.610015</td>\n",
       "    </tr>\n",
       "    <tr>\n",
       "      <td>2019-11-10</td>\n",
       "      <td>798.915372</td>\n",
       "      <td>536.778848</td>\n",
       "      <td>1089.071386</td>\n",
       "      <td>827</td>\n",
       "      <td>511.865057</td>\n",
       "      <td>38.105797</td>\n",
       "    </tr>\n",
       "    <tr>\n",
       "      <td>2019-11-11</td>\n",
       "      <td>478.465728</td>\n",
       "      <td>181.403616</td>\n",
       "      <td>741.446121</td>\n",
       "      <td>362</td>\n",
       "      <td>487.496430</td>\n",
       "      <td>34.667522</td>\n",
       "    </tr>\n",
       "    <tr>\n",
       "      <td>2019-11-12</td>\n",
       "      <td>480.342123</td>\n",
       "      <td>197.187118</td>\n",
       "      <td>756.501778</td>\n",
       "      <td>362</td>\n",
       "      <td>482.468337</td>\n",
       "      <td>33.278546</td>\n",
       "    </tr>\n",
       "    <tr>\n",
       "      <td>2019-11-13</td>\n",
       "      <td>493.646553</td>\n",
       "      <td>208.959150</td>\n",
       "      <td>790.896254</td>\n",
       "      <td>442</td>\n",
       "      <td>465.534577</td>\n",
       "      <td>5.324565</td>\n",
       "    </tr>\n",
       "    <tr>\n",
       "      <td>2019-11-14</td>\n",
       "      <td>495.968072</td>\n",
       "      <td>204.365981</td>\n",
       "      <td>775.811158</td>\n",
       "      <td>327</td>\n",
       "      <td>459.106506</td>\n",
       "      <td>40.399543</td>\n",
       "    </tr>\n",
       "    <tr>\n",
       "      <td>2019-11-15</td>\n",
       "      <td>518.525857</td>\n",
       "      <td>224.705647</td>\n",
       "      <td>835.437932</td>\n",
       "      <td>429</td>\n",
       "      <td>774.110684</td>\n",
       "      <td>80.445381</td>\n",
       "    </tr>\n",
       "    <tr>\n",
       "      <td>2019-11-16</td>\n",
       "      <td>811.783127</td>\n",
       "      <td>504.908546</td>\n",
       "      <td>1132.133599</td>\n",
       "      <td>885</td>\n",
       "      <td>811.783127</td>\n",
       "      <td>8.273093</td>\n",
       "    </tr>\n",
       "    <tr>\n",
       "      <td>2019-11-17</td>\n",
       "      <td>774.110684</td>\n",
       "      <td>455.542689</td>\n",
       "      <td>1087.562085</td>\n",
       "      <td>780</td>\n",
       "      <td>518.525857</td>\n",
       "      <td>33.522326</td>\n",
       "    </tr>\n",
       "    <tr>\n",
       "      <td>2019-11-18</td>\n",
       "      <td>459.106506</td>\n",
       "      <td>100.757882</td>\n",
       "      <td>813.314855</td>\n",
       "      <td>331</td>\n",
       "      <td>495.968072</td>\n",
       "      <td>49.839297</td>\n",
       "    </tr>\n",
       "    <tr>\n",
       "      <td>2019-11-19</td>\n",
       "      <td>465.534577</td>\n",
       "      <td>122.435645</td>\n",
       "      <td>800.832440</td>\n",
       "      <td>391</td>\n",
       "      <td>493.646553</td>\n",
       "      <td>26.252315</td>\n",
       "    </tr>\n",
       "    <tr>\n",
       "      <td>2019-11-20</td>\n",
       "      <td>482.468337</td>\n",
       "      <td>128.457528</td>\n",
       "      <td>860.376924</td>\n",
       "      <td>383</td>\n",
       "      <td>480.342123</td>\n",
       "      <td>25.415698</td>\n",
       "    </tr>\n",
       "    <tr>\n",
       "      <td>2019-11-21</td>\n",
       "      <td>487.496430</td>\n",
       "      <td>104.973394</td>\n",
       "      <td>900.952788</td>\n",
       "      <td>331</td>\n",
       "      <td>478.465728</td>\n",
       "      <td>44.551580</td>\n",
       "    </tr>\n",
       "    <tr>\n",
       "      <td>2019-11-22</td>\n",
       "      <td>511.865057</td>\n",
       "      <td>115.848620</td>\n",
       "      <td>900.350674</td>\n",
       "      <td>567</td>\n",
       "      <td>798.915372</td>\n",
       "      <td>40.902182</td>\n",
       "    </tr>\n",
       "    <tr>\n",
       "      <td>2019-11-23</td>\n",
       "      <td>806.090468</td>\n",
       "      <td>404.945781</td>\n",
       "      <td>1232.608485</td>\n",
       "      <td>1118</td>\n",
       "      <td>842.870392</td>\n",
       "      <td>24.609088</td>\n",
       "    </tr>\n",
       "    <tr>\n",
       "      <td>2019-11-24</td>\n",
       "      <td>768.620387</td>\n",
       "      <td>333.205001</td>\n",
       "      <td>1212.760996</td>\n",
       "      <td>1025</td>\n",
       "      <td>556.648780</td>\n",
       "      <td>45.692802</td>\n",
       "    </tr>\n",
       "    <tr>\n",
       "      <td>2019-11-25</td>\n",
       "      <td>453.150868</td>\n",
       "      <td>35.144429</td>\n",
       "      <td>943.632754</td>\n",
       "      <td>424</td>\n",
       "      <td>541.769834</td>\n",
       "      <td>27.775904</td>\n",
       "    </tr>\n",
       "    <tr>\n",
       "      <td>2019-11-26</td>\n",
       "      <td>458.561830</td>\n",
       "      <td>-22.317787</td>\n",
       "      <td>948.416562</td>\n",
       "      <td>469</td>\n",
       "      <td>547.636738</td>\n",
       "      <td>16.766895</td>\n",
       "    </tr>\n",
       "    <tr>\n",
       "      <td>2019-11-27</td>\n",
       "      <td>474.056745</td>\n",
       "      <td>-35.740018</td>\n",
       "      <td>1016.099691</td>\n",
       "      <td>512</td>\n",
       "      <td>542.875831</td>\n",
       "      <td>6.030436</td>\n",
       "    </tr>\n",
       "    <tr>\n",
       "      <td>2019-11-28</td>\n",
       "      <td>477.364247</td>\n",
       "      <td>-34.654164</td>\n",
       "      <td>1025.058042</td>\n",
       "      <td>469</td>\n",
       "      <td>549.726052</td>\n",
       "      <td>17.212378</td>\n",
       "    </tr>\n",
       "    <tr>\n",
       "      <td>2019-11-29</td>\n",
       "      <td>499.876086</td>\n",
       "      <td>-54.587703</td>\n",
       "      <td>1078.740027</td>\n",
       "      <td>733</td>\n",
       "      <td>878.899724</td>\n",
       "      <td>19.904464</td>\n",
       "    </tr>\n",
       "    <tr>\n",
       "      <td>2019-11-30</td>\n",
       "      <td>792.255072</td>\n",
       "      <td>228.417783</td>\n",
       "      <td>1413.192525</td>\n",
       "      <td>1292</td>\n",
       "      <td>931.381072</td>\n",
       "      <td>27.911682</td>\n",
       "    </tr>\n",
       "    <tr>\n",
       "      <td>2019-12-01</td>\n",
       "      <td>753.091916</td>\n",
       "      <td>151.115490</td>\n",
       "      <td>1403.169015</td>\n",
       "      <td>906</td>\n",
       "      <td>653.288064</td>\n",
       "      <td>27.893150</td>\n",
       "    </tr>\n",
       "  </tbody>\n",
       "</table>\n",
       "</div>"
      ],
      "text/plain": [
       "                  yhat  yhat_lower   yhat_upper     y    forecast       MAPE\n",
       "ds                                                                          \n",
       "2019-11-01  653.288064  384.563517   894.624950   450  753.091916  67.353759\n",
       "2019-11-02  931.381072  672.902898  1208.258849   934  792.255072  15.176116\n",
       "2019-11-03  878.899724  614.373443  1128.103607   905  499.876086  44.765073\n",
       "2019-11-04  549.726052  307.683259   798.437849   727  477.364247  34.337793\n",
       "2019-11-05  542.875831  281.973930   805.234357   315  474.056745  50.494205\n",
       "2019-11-06  547.636738  280.892014   806.107819   353  458.561830  29.904201\n",
       "2019-11-07  541.769834  283.544796   806.758500   359  453.150868  26.225868\n",
       "2019-11-08  556.648780  292.920581   815.793531   390  768.620387  97.082151\n",
       "2019-11-09  842.870392  592.734951  1095.147306   854  806.090468   5.610015\n",
       "2019-11-10  798.915372  536.778848  1089.071386   827  511.865057  38.105797\n",
       "2019-11-11  478.465728  181.403616   741.446121   362  487.496430  34.667522\n",
       "2019-11-12  480.342123  197.187118   756.501778   362  482.468337  33.278546\n",
       "2019-11-13  493.646553  208.959150   790.896254   442  465.534577   5.324565\n",
       "2019-11-14  495.968072  204.365981   775.811158   327  459.106506  40.399543\n",
       "2019-11-15  518.525857  224.705647   835.437932   429  774.110684  80.445381\n",
       "2019-11-16  811.783127  504.908546  1132.133599   885  811.783127   8.273093\n",
       "2019-11-17  774.110684  455.542689  1087.562085   780  518.525857  33.522326\n",
       "2019-11-18  459.106506  100.757882   813.314855   331  495.968072  49.839297\n",
       "2019-11-19  465.534577  122.435645   800.832440   391  493.646553  26.252315\n",
       "2019-11-20  482.468337  128.457528   860.376924   383  480.342123  25.415698\n",
       "2019-11-21  487.496430  104.973394   900.952788   331  478.465728  44.551580\n",
       "2019-11-22  511.865057  115.848620   900.350674   567  798.915372  40.902182\n",
       "2019-11-23  806.090468  404.945781  1232.608485  1118  842.870392  24.609088\n",
       "2019-11-24  768.620387  333.205001  1212.760996  1025  556.648780  45.692802\n",
       "2019-11-25  453.150868   35.144429   943.632754   424  541.769834  27.775904\n",
       "2019-11-26  458.561830  -22.317787   948.416562   469  547.636738  16.766895\n",
       "2019-11-27  474.056745  -35.740018  1016.099691   512  542.875831   6.030436\n",
       "2019-11-28  477.364247  -34.654164  1025.058042   469  549.726052  17.212378\n",
       "2019-11-29  499.876086  -54.587703  1078.740027   733  878.899724  19.904464\n",
       "2019-11-30  792.255072  228.417783  1413.192525  1292  931.381072  27.911682\n",
       "2019-12-01  753.091916  151.115490  1403.169015   906  653.288064  27.893150"
      ]
     },
     "execution_count": 16,
     "metadata": {},
     "output_type": "execute_result"
    }
   ],
   "source": [
    "#Добавляем значения верхних и нижних границ\n",
    "def compare_join(historical, forecast):\n",
    "    return forecast.set_index('ds')[['yhat', 'yhat_lower', 'yhat_upper']].join(historical.set_index('ds'))\n",
    "\n",
    "compare_df = compare_join(results, forecast)\n",
    "compare_df"
   ]
  },
  {
   "cell_type": "code",
   "execution_count": 17,
   "metadata": {
    "scrolled": false
   },
   "outputs": [
    {
     "data": {
      "text/html": [
       "        <script type=\"text/javascript\">\n",
       "        window.PlotlyConfig = {MathJaxConfig: 'local'};\n",
       "        if (window.MathJax) {MathJax.Hub.Config({SVG: {font: \"STIX-Web\"}});}\n",
       "        if (typeof require !== 'undefined') {\n",
       "        require.undef(\"plotly\");\n",
       "        requirejs.config({\n",
       "            paths: {\n",
       "                'plotly': ['https://cdn.plot.ly/plotly-latest.min']\n",
       "            }\n",
       "        });\n",
       "        require(['plotly'], function(Plotly) {\n",
       "            window._Plotly = Plotly;\n",
       "        });\n",
       "        }\n",
       "        </script>\n",
       "        "
      ]
     },
     "metadata": {},
     "output_type": "display_data"
    },
    {
     "data": {
      "application/vnd.plotly.v1+json": {
       "config": {
        "linkText": "Export to plot.ly",
        "plotlyServerURL": "https://plot.ly",
        "showLink": false
       },
       "data": [
        {
         "line": {
          "width": 0
         },
         "marker": {
          "color": "aqua"
         },
         "mode": "lines",
         "name": "Нижняя граница",
         "type": "scatter",
         "x": [
          "2019-11-01T00:00:00",
          "2019-11-02T00:00:00",
          "2019-11-03T00:00:00",
          "2019-11-04T00:00:00",
          "2019-11-05T00:00:00",
          "2019-11-06T00:00:00",
          "2019-11-07T00:00:00",
          "2019-11-08T00:00:00",
          "2019-11-09T00:00:00",
          "2019-11-10T00:00:00",
          "2019-11-11T00:00:00",
          "2019-11-12T00:00:00",
          "2019-11-13T00:00:00",
          "2019-11-14T00:00:00",
          "2019-11-15T00:00:00",
          "2019-11-16T00:00:00",
          "2019-11-17T00:00:00",
          "2019-11-18T00:00:00",
          "2019-11-19T00:00:00",
          "2019-11-20T00:00:00",
          "2019-11-21T00:00:00",
          "2019-11-22T00:00:00",
          "2019-11-23T00:00:00",
          "2019-11-24T00:00:00",
          "2019-11-25T00:00:00",
          "2019-11-26T00:00:00",
          "2019-11-27T00:00:00",
          "2019-11-28T00:00:00",
          "2019-11-29T00:00:00",
          "2019-11-30T00:00:00",
          "2019-12-01T00:00:00"
         ],
         "y": [
          384.5635168812084,
          672.902898078114,
          614.3734425263626,
          307.6832588572365,
          281.9739300600587,
          280.89201415126166,
          283.54479591140506,
          292.9205813538219,
          592.7349508738095,
          536.7788475111578,
          181.40361633331162,
          197.18711791179697,
          208.959150479666,
          204.365981123985,
          224.7056473934554,
          504.9085458389422,
          455.5426890180103,
          100.75788230787607,
          122.43564544249847,
          128.45752846068547,
          104.97339379515905,
          115.84862047884259,
          404.9457810515267,
          333.20500134113473,
          35.144429146352685,
          -22.317787405089323,
          -35.74001821468271,
          -34.65416368542046,
          -54.587703187028524,
          228.41778313100022,
          151.11549021701651
         ]
        },
        {
         "fill": "tonexty",
         "fillcolor": "rgba(68, 68, 68, 0.3)",
         "line": {
          "width": 0
         },
         "marker": {
          "color": "aqua"
         },
         "mode": "lines",
         "name": "Вверхняя граница",
         "type": "scatter",
         "x": [
          "2019-11-01T00:00:00",
          "2019-11-02T00:00:00",
          "2019-11-03T00:00:00",
          "2019-11-04T00:00:00",
          "2019-11-05T00:00:00",
          "2019-11-06T00:00:00",
          "2019-11-07T00:00:00",
          "2019-11-08T00:00:00",
          "2019-11-09T00:00:00",
          "2019-11-10T00:00:00",
          "2019-11-11T00:00:00",
          "2019-11-12T00:00:00",
          "2019-11-13T00:00:00",
          "2019-11-14T00:00:00",
          "2019-11-15T00:00:00",
          "2019-11-16T00:00:00",
          "2019-11-17T00:00:00",
          "2019-11-18T00:00:00",
          "2019-11-19T00:00:00",
          "2019-11-20T00:00:00",
          "2019-11-21T00:00:00",
          "2019-11-22T00:00:00",
          "2019-11-23T00:00:00",
          "2019-11-24T00:00:00",
          "2019-11-25T00:00:00",
          "2019-11-26T00:00:00",
          "2019-11-27T00:00:00",
          "2019-11-28T00:00:00",
          "2019-11-29T00:00:00",
          "2019-11-30T00:00:00",
          "2019-12-01T00:00:00"
         ],
         "y": [
          894.6249500875808,
          1208.2588490962062,
          1128.10360710442,
          798.4378489769331,
          805.2343569702467,
          806.1078191285487,
          806.758499996782,
          815.7935313801947,
          1095.1473055931815,
          1089.071386072938,
          741.4461212634186,
          756.501778473716,
          790.8962537613265,
          775.8111582673769,
          835.4379320212637,
          1132.133599301041,
          1087.5620850196983,
          813.3148549965414,
          800.8324396829254,
          860.3769235963903,
          900.9527878618186,
          900.3506735226566,
          1232.6084848484866,
          1212.7609959950187,
          943.632754182851,
          948.4165616587716,
          1016.0996909239269,
          1025.0580423887636,
          1078.740027294721,
          1413.1925247899349,
          1403.1690153181446
         ]
        },
        {
         "line": {
          "color": "rgb(31, 119, 180)"
         },
         "mode": "lines",
         "name": "Прогноз",
         "type": "scatter",
         "x": [
          "2019-11-01T00:00:00",
          "2019-11-02T00:00:00",
          "2019-11-03T00:00:00",
          "2019-11-04T00:00:00",
          "2019-11-05T00:00:00",
          "2019-11-06T00:00:00",
          "2019-11-07T00:00:00",
          "2019-11-08T00:00:00",
          "2019-11-09T00:00:00",
          "2019-11-10T00:00:00",
          "2019-11-11T00:00:00",
          "2019-11-12T00:00:00",
          "2019-11-13T00:00:00",
          "2019-11-14T00:00:00",
          "2019-11-15T00:00:00",
          "2019-11-16T00:00:00",
          "2019-11-17T00:00:00",
          "2019-11-18T00:00:00",
          "2019-11-19T00:00:00",
          "2019-11-20T00:00:00",
          "2019-11-21T00:00:00",
          "2019-11-22T00:00:00",
          "2019-11-23T00:00:00",
          "2019-11-24T00:00:00",
          "2019-11-25T00:00:00",
          "2019-11-26T00:00:00",
          "2019-11-27T00:00:00",
          "2019-11-28T00:00:00",
          "2019-11-29T00:00:00",
          "2019-11-30T00:00:00",
          "2019-12-01T00:00:00"
         ],
         "y": [
          653.2880643553282,
          931.381072265007,
          878.8997241031714,
          549.7260522948462,
          542.8758314409779,
          547.6367380406299,
          541.7698335689746,
          556.6487797224131,
          842.8703924983099,
          798.9153722743024,
          478.4657284742601,
          480.34212306386826,
          493.6465531354261,
          495.96807232781157,
          518.5258565808058,
          811.7831269303223,
          774.1106842529399,
          459.1065061215148,
          465.5345771692687,
          482.46833739195114,
          487.49643027206105,
          511.8650569063668,
          806.0904681362889,
          768.6203871380745,
          453.15086756975404,
          458.56182976917137,
          474.05674491681384,
          477.36424694186076,
          499.87608618739,
          792.2550719827204,
          753.0919161740919
         ]
        },
        {
         "marker": {
          "color": "red"
         },
         "mode": "lines",
         "name": "Факт",
         "type": "scatter",
         "x": [
          "2019-11-01T00:00:00",
          "2019-11-02T00:00:00",
          "2019-11-03T00:00:00",
          "2019-11-04T00:00:00",
          "2019-11-05T00:00:00",
          "2019-11-06T00:00:00",
          "2019-11-07T00:00:00",
          "2019-11-08T00:00:00",
          "2019-11-09T00:00:00",
          "2019-11-10T00:00:00",
          "2019-11-11T00:00:00",
          "2019-11-12T00:00:00",
          "2019-11-13T00:00:00",
          "2019-11-14T00:00:00",
          "2019-11-15T00:00:00",
          "2019-11-16T00:00:00",
          "2019-11-17T00:00:00",
          "2019-11-18T00:00:00",
          "2019-11-19T00:00:00",
          "2019-11-20T00:00:00",
          "2019-11-21T00:00:00",
          "2019-11-22T00:00:00",
          "2019-11-23T00:00:00",
          "2019-11-24T00:00:00",
          "2019-11-25T00:00:00",
          "2019-11-26T00:00:00",
          "2019-11-27T00:00:00",
          "2019-11-28T00:00:00",
          "2019-11-29T00:00:00",
          "2019-11-30T00:00:00",
          "2019-12-01T00:00:00"
         ],
         "y": [
          450,
          934,
          905,
          727,
          315,
          353,
          359,
          390,
          854,
          827,
          362,
          362,
          442,
          327,
          429,
          885,
          780,
          331,
          391,
          383,
          331,
          567,
          1118,
          1025,
          424,
          469,
          512,
          469,
          733,
          1292,
          906
         ]
        }
       ],
       "layout": {
        "showlegend": false,
        "template": {
         "data": {
          "bar": [
           {
            "error_x": {
             "color": "#2a3f5f"
            },
            "error_y": {
             "color": "#2a3f5f"
            },
            "marker": {
             "line": {
              "color": "#E5ECF6",
              "width": 0.5
             }
            },
            "type": "bar"
           }
          ],
          "barpolar": [
           {
            "marker": {
             "line": {
              "color": "#E5ECF6",
              "width": 0.5
             }
            },
            "type": "barpolar"
           }
          ],
          "carpet": [
           {
            "aaxis": {
             "endlinecolor": "#2a3f5f",
             "gridcolor": "white",
             "linecolor": "white",
             "minorgridcolor": "white",
             "startlinecolor": "#2a3f5f"
            },
            "baxis": {
             "endlinecolor": "#2a3f5f",
             "gridcolor": "white",
             "linecolor": "white",
             "minorgridcolor": "white",
             "startlinecolor": "#2a3f5f"
            },
            "type": "carpet"
           }
          ],
          "choropleth": [
           {
            "colorbar": {
             "outlinewidth": 0,
             "ticks": ""
            },
            "type": "choropleth"
           }
          ],
          "contour": [
           {
            "colorbar": {
             "outlinewidth": 0,
             "ticks": ""
            },
            "colorscale": [
             [
              0,
              "#0d0887"
             ],
             [
              0.1111111111111111,
              "#46039f"
             ],
             [
              0.2222222222222222,
              "#7201a8"
             ],
             [
              0.3333333333333333,
              "#9c179e"
             ],
             [
              0.4444444444444444,
              "#bd3786"
             ],
             [
              0.5555555555555556,
              "#d8576b"
             ],
             [
              0.6666666666666666,
              "#ed7953"
             ],
             [
              0.7777777777777778,
              "#fb9f3a"
             ],
             [
              0.8888888888888888,
              "#fdca26"
             ],
             [
              1,
              "#f0f921"
             ]
            ],
            "type": "contour"
           }
          ],
          "contourcarpet": [
           {
            "colorbar": {
             "outlinewidth": 0,
             "ticks": ""
            },
            "type": "contourcarpet"
           }
          ],
          "heatmap": [
           {
            "colorbar": {
             "outlinewidth": 0,
             "ticks": ""
            },
            "colorscale": [
             [
              0,
              "#0d0887"
             ],
             [
              0.1111111111111111,
              "#46039f"
             ],
             [
              0.2222222222222222,
              "#7201a8"
             ],
             [
              0.3333333333333333,
              "#9c179e"
             ],
             [
              0.4444444444444444,
              "#bd3786"
             ],
             [
              0.5555555555555556,
              "#d8576b"
             ],
             [
              0.6666666666666666,
              "#ed7953"
             ],
             [
              0.7777777777777778,
              "#fb9f3a"
             ],
             [
              0.8888888888888888,
              "#fdca26"
             ],
             [
              1,
              "#f0f921"
             ]
            ],
            "type": "heatmap"
           }
          ],
          "heatmapgl": [
           {
            "colorbar": {
             "outlinewidth": 0,
             "ticks": ""
            },
            "colorscale": [
             [
              0,
              "#0d0887"
             ],
             [
              0.1111111111111111,
              "#46039f"
             ],
             [
              0.2222222222222222,
              "#7201a8"
             ],
             [
              0.3333333333333333,
              "#9c179e"
             ],
             [
              0.4444444444444444,
              "#bd3786"
             ],
             [
              0.5555555555555556,
              "#d8576b"
             ],
             [
              0.6666666666666666,
              "#ed7953"
             ],
             [
              0.7777777777777778,
              "#fb9f3a"
             ],
             [
              0.8888888888888888,
              "#fdca26"
             ],
             [
              1,
              "#f0f921"
             ]
            ],
            "type": "heatmapgl"
           }
          ],
          "histogram": [
           {
            "marker": {
             "colorbar": {
              "outlinewidth": 0,
              "ticks": ""
             }
            },
            "type": "histogram"
           }
          ],
          "histogram2d": [
           {
            "colorbar": {
             "outlinewidth": 0,
             "ticks": ""
            },
            "colorscale": [
             [
              0,
              "#0d0887"
             ],
             [
              0.1111111111111111,
              "#46039f"
             ],
             [
              0.2222222222222222,
              "#7201a8"
             ],
             [
              0.3333333333333333,
              "#9c179e"
             ],
             [
              0.4444444444444444,
              "#bd3786"
             ],
             [
              0.5555555555555556,
              "#d8576b"
             ],
             [
              0.6666666666666666,
              "#ed7953"
             ],
             [
              0.7777777777777778,
              "#fb9f3a"
             ],
             [
              0.8888888888888888,
              "#fdca26"
             ],
             [
              1,
              "#f0f921"
             ]
            ],
            "type": "histogram2d"
           }
          ],
          "histogram2dcontour": [
           {
            "colorbar": {
             "outlinewidth": 0,
             "ticks": ""
            },
            "colorscale": [
             [
              0,
              "#0d0887"
             ],
             [
              0.1111111111111111,
              "#46039f"
             ],
             [
              0.2222222222222222,
              "#7201a8"
             ],
             [
              0.3333333333333333,
              "#9c179e"
             ],
             [
              0.4444444444444444,
              "#bd3786"
             ],
             [
              0.5555555555555556,
              "#d8576b"
             ],
             [
              0.6666666666666666,
              "#ed7953"
             ],
             [
              0.7777777777777778,
              "#fb9f3a"
             ],
             [
              0.8888888888888888,
              "#fdca26"
             ],
             [
              1,
              "#f0f921"
             ]
            ],
            "type": "histogram2dcontour"
           }
          ],
          "mesh3d": [
           {
            "colorbar": {
             "outlinewidth": 0,
             "ticks": ""
            },
            "type": "mesh3d"
           }
          ],
          "parcoords": [
           {
            "line": {
             "colorbar": {
              "outlinewidth": 0,
              "ticks": ""
             }
            },
            "type": "parcoords"
           }
          ],
          "pie": [
           {
            "automargin": true,
            "type": "pie"
           }
          ],
          "scatter": [
           {
            "marker": {
             "colorbar": {
              "outlinewidth": 0,
              "ticks": ""
             }
            },
            "type": "scatter"
           }
          ],
          "scatter3d": [
           {
            "line": {
             "colorbar": {
              "outlinewidth": 0,
              "ticks": ""
             }
            },
            "marker": {
             "colorbar": {
              "outlinewidth": 0,
              "ticks": ""
             }
            },
            "type": "scatter3d"
           }
          ],
          "scattercarpet": [
           {
            "marker": {
             "colorbar": {
              "outlinewidth": 0,
              "ticks": ""
             }
            },
            "type": "scattercarpet"
           }
          ],
          "scattergeo": [
           {
            "marker": {
             "colorbar": {
              "outlinewidth": 0,
              "ticks": ""
             }
            },
            "type": "scattergeo"
           }
          ],
          "scattergl": [
           {
            "marker": {
             "colorbar": {
              "outlinewidth": 0,
              "ticks": ""
             }
            },
            "type": "scattergl"
           }
          ],
          "scattermapbox": [
           {
            "marker": {
             "colorbar": {
              "outlinewidth": 0,
              "ticks": ""
             }
            },
            "type": "scattermapbox"
           }
          ],
          "scatterpolar": [
           {
            "marker": {
             "colorbar": {
              "outlinewidth": 0,
              "ticks": ""
             }
            },
            "type": "scatterpolar"
           }
          ],
          "scatterpolargl": [
           {
            "marker": {
             "colorbar": {
              "outlinewidth": 0,
              "ticks": ""
             }
            },
            "type": "scatterpolargl"
           }
          ],
          "scatterternary": [
           {
            "marker": {
             "colorbar": {
              "outlinewidth": 0,
              "ticks": ""
             }
            },
            "type": "scatterternary"
           }
          ],
          "surface": [
           {
            "colorbar": {
             "outlinewidth": 0,
             "ticks": ""
            },
            "colorscale": [
             [
              0,
              "#0d0887"
             ],
             [
              0.1111111111111111,
              "#46039f"
             ],
             [
              0.2222222222222222,
              "#7201a8"
             ],
             [
              0.3333333333333333,
              "#9c179e"
             ],
             [
              0.4444444444444444,
              "#bd3786"
             ],
             [
              0.5555555555555556,
              "#d8576b"
             ],
             [
              0.6666666666666666,
              "#ed7953"
             ],
             [
              0.7777777777777778,
              "#fb9f3a"
             ],
             [
              0.8888888888888888,
              "#fdca26"
             ],
             [
              1,
              "#f0f921"
             ]
            ],
            "type": "surface"
           }
          ],
          "table": [
           {
            "cells": {
             "fill": {
              "color": "#EBF0F8"
             },
             "line": {
              "color": "white"
             }
            },
            "header": {
             "fill": {
              "color": "#C8D4E3"
             },
             "line": {
              "color": "white"
             }
            },
            "type": "table"
           }
          ]
         },
         "layout": {
          "annotationdefaults": {
           "arrowcolor": "#2a3f5f",
           "arrowhead": 0,
           "arrowwidth": 1
          },
          "coloraxis": {
           "colorbar": {
            "outlinewidth": 0,
            "ticks": ""
           }
          },
          "colorscale": {
           "diverging": [
            [
             0,
             "#8e0152"
            ],
            [
             0.1,
             "#c51b7d"
            ],
            [
             0.2,
             "#de77ae"
            ],
            [
             0.3,
             "#f1b6da"
            ],
            [
             0.4,
             "#fde0ef"
            ],
            [
             0.5,
             "#f7f7f7"
            ],
            [
             0.6,
             "#e6f5d0"
            ],
            [
             0.7,
             "#b8e186"
            ],
            [
             0.8,
             "#7fbc41"
            ],
            [
             0.9,
             "#4d9221"
            ],
            [
             1,
             "#276419"
            ]
           ],
           "sequential": [
            [
             0,
             "#0d0887"
            ],
            [
             0.1111111111111111,
             "#46039f"
            ],
            [
             0.2222222222222222,
             "#7201a8"
            ],
            [
             0.3333333333333333,
             "#9c179e"
            ],
            [
             0.4444444444444444,
             "#bd3786"
            ],
            [
             0.5555555555555556,
             "#d8576b"
            ],
            [
             0.6666666666666666,
             "#ed7953"
            ],
            [
             0.7777777777777778,
             "#fb9f3a"
            ],
            [
             0.8888888888888888,
             "#fdca26"
            ],
            [
             1,
             "#f0f921"
            ]
           ],
           "sequentialminus": [
            [
             0,
             "#0d0887"
            ],
            [
             0.1111111111111111,
             "#46039f"
            ],
            [
             0.2222222222222222,
             "#7201a8"
            ],
            [
             0.3333333333333333,
             "#9c179e"
            ],
            [
             0.4444444444444444,
             "#bd3786"
            ],
            [
             0.5555555555555556,
             "#d8576b"
            ],
            [
             0.6666666666666666,
             "#ed7953"
            ],
            [
             0.7777777777777778,
             "#fb9f3a"
            ],
            [
             0.8888888888888888,
             "#fdca26"
            ],
            [
             1,
             "#f0f921"
            ]
           ]
          },
          "colorway": [
           "#636efa",
           "#EF553B",
           "#00cc96",
           "#ab63fa",
           "#FFA15A",
           "#19d3f3",
           "#FF6692",
           "#B6E880",
           "#FF97FF",
           "#FECB52"
          ],
          "font": {
           "color": "#2a3f5f"
          },
          "geo": {
           "bgcolor": "white",
           "lakecolor": "white",
           "landcolor": "#E5ECF6",
           "showlakes": true,
           "showland": true,
           "subunitcolor": "white"
          },
          "hoverlabel": {
           "align": "left"
          },
          "hovermode": "closest",
          "mapbox": {
           "style": "light"
          },
          "paper_bgcolor": "white",
          "plot_bgcolor": "#E5ECF6",
          "polar": {
           "angularaxis": {
            "gridcolor": "white",
            "linecolor": "white",
            "ticks": ""
           },
           "bgcolor": "#E5ECF6",
           "radialaxis": {
            "gridcolor": "white",
            "linecolor": "white",
            "ticks": ""
           }
          },
          "scene": {
           "xaxis": {
            "backgroundcolor": "#E5ECF6",
            "gridcolor": "white",
            "gridwidth": 2,
            "linecolor": "white",
            "showbackground": true,
            "ticks": "",
            "zerolinecolor": "white"
           },
           "yaxis": {
            "backgroundcolor": "#E5ECF6",
            "gridcolor": "white",
            "gridwidth": 2,
            "linecolor": "white",
            "showbackground": true,
            "ticks": "",
            "zerolinecolor": "white"
           },
           "zaxis": {
            "backgroundcolor": "#E5ECF6",
            "gridcolor": "white",
            "gridwidth": 2,
            "linecolor": "white",
            "showbackground": true,
            "ticks": "",
            "zerolinecolor": "white"
           }
          },
          "shapedefaults": {
           "line": {
            "color": "#2a3f5f"
           }
          },
          "ternary": {
           "aaxis": {
            "gridcolor": "white",
            "linecolor": "white",
            "ticks": ""
           },
           "baxis": {
            "gridcolor": "white",
            "linecolor": "white",
            "ticks": ""
           },
           "bgcolor": "#E5ECF6",
           "caxis": {
            "gridcolor": "white",
            "linecolor": "white",
            "ticks": ""
           }
          },
          "title": {
           "x": 0.05
          },
          "xaxis": {
           "automargin": true,
           "gridcolor": "white",
           "linecolor": "white",
           "ticks": "",
           "title": {
            "standoff": 15
           },
           "zerolinecolor": "white",
           "zerolinewidth": 2
          },
          "yaxis": {
           "automargin": true,
           "gridcolor": "white",
           "linecolor": "white",
           "ticks": "",
           "title": {
            "standoff": 15
           },
           "zerolinecolor": "white",
           "zerolinewidth": 2
          }
         }
        },
        "title": {
         "text": "Прогноз продаж"
        },
        "yaxis": {
         "title": {
          "text": "sales"
         }
        }
       }
      },
      "text/html": [
       "<div>\n",
       "        \n",
       "        \n",
       "            <div id=\"253aca88-ebb7-4fdb-b285-c79320003f15\" class=\"plotly-graph-div\" style=\"height:525px; width:100%;\"></div>\n",
       "            <script type=\"text/javascript\">\n",
       "                require([\"plotly\"], function(Plotly) {\n",
       "                    window.PLOTLYENV=window.PLOTLYENV || {};\n",
       "                    \n",
       "                if (document.getElementById(\"253aca88-ebb7-4fdb-b285-c79320003f15\")) {\n",
       "                    Plotly.newPlot(\n",
       "                        '253aca88-ebb7-4fdb-b285-c79320003f15',\n",
       "                        [{\"line\": {\"width\": 0}, \"marker\": {\"color\": \"aqua\"}, \"mode\": \"lines\", \"name\": \"\\u041d\\u0438\\u0436\\u043d\\u044f\\u044f \\u0433\\u0440\\u0430\\u043d\\u0438\\u0446\\u0430\", \"type\": \"scatter\", \"x\": [\"2019-11-01T00:00:00\", \"2019-11-02T00:00:00\", \"2019-11-03T00:00:00\", \"2019-11-04T00:00:00\", \"2019-11-05T00:00:00\", \"2019-11-06T00:00:00\", \"2019-11-07T00:00:00\", \"2019-11-08T00:00:00\", \"2019-11-09T00:00:00\", \"2019-11-10T00:00:00\", \"2019-11-11T00:00:00\", \"2019-11-12T00:00:00\", \"2019-11-13T00:00:00\", \"2019-11-14T00:00:00\", \"2019-11-15T00:00:00\", \"2019-11-16T00:00:00\", \"2019-11-17T00:00:00\", \"2019-11-18T00:00:00\", \"2019-11-19T00:00:00\", \"2019-11-20T00:00:00\", \"2019-11-21T00:00:00\", \"2019-11-22T00:00:00\", \"2019-11-23T00:00:00\", \"2019-11-24T00:00:00\", \"2019-11-25T00:00:00\", \"2019-11-26T00:00:00\", \"2019-11-27T00:00:00\", \"2019-11-28T00:00:00\", \"2019-11-29T00:00:00\", \"2019-11-30T00:00:00\", \"2019-12-01T00:00:00\"], \"y\": [384.5635168812084, 672.902898078114, 614.3734425263626, 307.6832588572365, 281.9739300600587, 280.89201415126166, 283.54479591140506, 292.9205813538219, 592.7349508738095, 536.7788475111578, 181.40361633331162, 197.18711791179697, 208.959150479666, 204.365981123985, 224.7056473934554, 504.9085458389422, 455.5426890180103, 100.75788230787607, 122.43564544249847, 128.45752846068547, 104.97339379515905, 115.84862047884259, 404.9457810515267, 333.20500134113473, 35.144429146352685, -22.317787405089323, -35.74001821468271, -34.65416368542046, -54.587703187028524, 228.41778313100022, 151.11549021701651]}, {\"fill\": \"tonexty\", \"fillcolor\": \"rgba(68, 68, 68, 0.3)\", \"line\": {\"width\": 0}, \"marker\": {\"color\": \"aqua\"}, \"mode\": \"lines\", \"name\": \"\\u0412\\u0432\\u0435\\u0440\\u0445\\u043d\\u044f\\u044f \\u0433\\u0440\\u0430\\u043d\\u0438\\u0446\\u0430\", \"type\": \"scatter\", \"x\": [\"2019-11-01T00:00:00\", \"2019-11-02T00:00:00\", \"2019-11-03T00:00:00\", \"2019-11-04T00:00:00\", \"2019-11-05T00:00:00\", \"2019-11-06T00:00:00\", \"2019-11-07T00:00:00\", \"2019-11-08T00:00:00\", \"2019-11-09T00:00:00\", \"2019-11-10T00:00:00\", \"2019-11-11T00:00:00\", \"2019-11-12T00:00:00\", \"2019-11-13T00:00:00\", \"2019-11-14T00:00:00\", \"2019-11-15T00:00:00\", \"2019-11-16T00:00:00\", \"2019-11-17T00:00:00\", \"2019-11-18T00:00:00\", \"2019-11-19T00:00:00\", \"2019-11-20T00:00:00\", \"2019-11-21T00:00:00\", \"2019-11-22T00:00:00\", \"2019-11-23T00:00:00\", \"2019-11-24T00:00:00\", \"2019-11-25T00:00:00\", \"2019-11-26T00:00:00\", \"2019-11-27T00:00:00\", \"2019-11-28T00:00:00\", \"2019-11-29T00:00:00\", \"2019-11-30T00:00:00\", \"2019-12-01T00:00:00\"], \"y\": [894.6249500875808, 1208.2588490962062, 1128.10360710442, 798.4378489769331, 805.2343569702467, 806.1078191285487, 806.758499996782, 815.7935313801947, 1095.1473055931815, 1089.071386072938, 741.4461212634186, 756.501778473716, 790.8962537613265, 775.8111582673769, 835.4379320212637, 1132.133599301041, 1087.5620850196983, 813.3148549965414, 800.8324396829254, 860.3769235963903, 900.9527878618186, 900.3506735226566, 1232.6084848484866, 1212.7609959950187, 943.632754182851, 948.4165616587716, 1016.0996909239269, 1025.0580423887636, 1078.740027294721, 1413.1925247899349, 1403.1690153181446]}, {\"line\": {\"color\": \"rgb(31, 119, 180)\"}, \"mode\": \"lines\", \"name\": \"\\u041f\\u0440\\u043e\\u0433\\u043d\\u043e\\u0437\", \"type\": \"scatter\", \"x\": [\"2019-11-01T00:00:00\", \"2019-11-02T00:00:00\", \"2019-11-03T00:00:00\", \"2019-11-04T00:00:00\", \"2019-11-05T00:00:00\", \"2019-11-06T00:00:00\", \"2019-11-07T00:00:00\", \"2019-11-08T00:00:00\", \"2019-11-09T00:00:00\", \"2019-11-10T00:00:00\", \"2019-11-11T00:00:00\", \"2019-11-12T00:00:00\", \"2019-11-13T00:00:00\", \"2019-11-14T00:00:00\", \"2019-11-15T00:00:00\", \"2019-11-16T00:00:00\", \"2019-11-17T00:00:00\", \"2019-11-18T00:00:00\", \"2019-11-19T00:00:00\", \"2019-11-20T00:00:00\", \"2019-11-21T00:00:00\", \"2019-11-22T00:00:00\", \"2019-11-23T00:00:00\", \"2019-11-24T00:00:00\", \"2019-11-25T00:00:00\", \"2019-11-26T00:00:00\", \"2019-11-27T00:00:00\", \"2019-11-28T00:00:00\", \"2019-11-29T00:00:00\", \"2019-11-30T00:00:00\", \"2019-12-01T00:00:00\"], \"y\": [653.2880643553282, 931.381072265007, 878.8997241031714, 549.7260522948462, 542.8758314409779, 547.6367380406299, 541.7698335689746, 556.6487797224131, 842.8703924983099, 798.9153722743024, 478.4657284742601, 480.34212306386826, 493.6465531354261, 495.96807232781157, 518.5258565808058, 811.7831269303223, 774.1106842529399, 459.1065061215148, 465.5345771692687, 482.46833739195114, 487.49643027206105, 511.8650569063668, 806.0904681362889, 768.6203871380745, 453.15086756975404, 458.56182976917137, 474.05674491681384, 477.36424694186076, 499.87608618739, 792.2550719827204, 753.0919161740919]}, {\"marker\": {\"color\": \"red\"}, \"mode\": \"lines\", \"name\": \"\\u0424\\u0430\\u043a\\u0442\", \"type\": \"scatter\", \"x\": [\"2019-11-01T00:00:00\", \"2019-11-02T00:00:00\", \"2019-11-03T00:00:00\", \"2019-11-04T00:00:00\", \"2019-11-05T00:00:00\", \"2019-11-06T00:00:00\", \"2019-11-07T00:00:00\", \"2019-11-08T00:00:00\", \"2019-11-09T00:00:00\", \"2019-11-10T00:00:00\", \"2019-11-11T00:00:00\", \"2019-11-12T00:00:00\", \"2019-11-13T00:00:00\", \"2019-11-14T00:00:00\", \"2019-11-15T00:00:00\", \"2019-11-16T00:00:00\", \"2019-11-17T00:00:00\", \"2019-11-18T00:00:00\", \"2019-11-19T00:00:00\", \"2019-11-20T00:00:00\", \"2019-11-21T00:00:00\", \"2019-11-22T00:00:00\", \"2019-11-23T00:00:00\", \"2019-11-24T00:00:00\", \"2019-11-25T00:00:00\", \"2019-11-26T00:00:00\", \"2019-11-27T00:00:00\", \"2019-11-28T00:00:00\", \"2019-11-29T00:00:00\", \"2019-11-30T00:00:00\", \"2019-12-01T00:00:00\"], \"y\": [450, 934, 905, 727, 315, 353, 359, 390, 854, 827, 362, 362, 442, 327, 429, 885, 780, 331, 391, 383, 331, 567, 1118, 1025, 424, 469, 512, 469, 733, 1292, 906]}],\n",
       "                        {\"showlegend\": false, \"template\": {\"data\": {\"bar\": [{\"error_x\": {\"color\": \"#2a3f5f\"}, \"error_y\": {\"color\": \"#2a3f5f\"}, \"marker\": {\"line\": {\"color\": \"#E5ECF6\", \"width\": 0.5}}, \"type\": \"bar\"}], \"barpolar\": [{\"marker\": {\"line\": {\"color\": \"#E5ECF6\", \"width\": 0.5}}, \"type\": \"barpolar\"}], \"carpet\": [{\"aaxis\": {\"endlinecolor\": \"#2a3f5f\", \"gridcolor\": \"white\", \"linecolor\": \"white\", \"minorgridcolor\": \"white\", \"startlinecolor\": \"#2a3f5f\"}, \"baxis\": {\"endlinecolor\": \"#2a3f5f\", \"gridcolor\": \"white\", \"linecolor\": \"white\", \"minorgridcolor\": \"white\", \"startlinecolor\": \"#2a3f5f\"}, \"type\": \"carpet\"}], \"choropleth\": [{\"colorbar\": {\"outlinewidth\": 0, \"ticks\": \"\"}, \"type\": \"choropleth\"}], \"contour\": [{\"colorbar\": {\"outlinewidth\": 0, \"ticks\": \"\"}, \"colorscale\": [[0.0, \"#0d0887\"], [0.1111111111111111, \"#46039f\"], [0.2222222222222222, \"#7201a8\"], [0.3333333333333333, \"#9c179e\"], [0.4444444444444444, \"#bd3786\"], [0.5555555555555556, \"#d8576b\"], [0.6666666666666666, \"#ed7953\"], [0.7777777777777778, \"#fb9f3a\"], [0.8888888888888888, \"#fdca26\"], [1.0, \"#f0f921\"]], \"type\": \"contour\"}], \"contourcarpet\": [{\"colorbar\": {\"outlinewidth\": 0, \"ticks\": \"\"}, \"type\": \"contourcarpet\"}], \"heatmap\": [{\"colorbar\": {\"outlinewidth\": 0, \"ticks\": \"\"}, \"colorscale\": [[0.0, \"#0d0887\"], [0.1111111111111111, \"#46039f\"], [0.2222222222222222, \"#7201a8\"], [0.3333333333333333, \"#9c179e\"], [0.4444444444444444, \"#bd3786\"], [0.5555555555555556, \"#d8576b\"], [0.6666666666666666, \"#ed7953\"], [0.7777777777777778, \"#fb9f3a\"], [0.8888888888888888, \"#fdca26\"], [1.0, \"#f0f921\"]], \"type\": \"heatmap\"}], \"heatmapgl\": [{\"colorbar\": {\"outlinewidth\": 0, \"ticks\": \"\"}, \"colorscale\": [[0.0, \"#0d0887\"], [0.1111111111111111, \"#46039f\"], [0.2222222222222222, \"#7201a8\"], [0.3333333333333333, \"#9c179e\"], [0.4444444444444444, \"#bd3786\"], [0.5555555555555556, \"#d8576b\"], [0.6666666666666666, \"#ed7953\"], [0.7777777777777778, \"#fb9f3a\"], [0.8888888888888888, \"#fdca26\"], [1.0, \"#f0f921\"]], \"type\": \"heatmapgl\"}], \"histogram\": [{\"marker\": {\"colorbar\": {\"outlinewidth\": 0, \"ticks\": \"\"}}, \"type\": \"histogram\"}], \"histogram2d\": [{\"colorbar\": {\"outlinewidth\": 0, \"ticks\": \"\"}, \"colorscale\": [[0.0, \"#0d0887\"], [0.1111111111111111, \"#46039f\"], [0.2222222222222222, \"#7201a8\"], [0.3333333333333333, \"#9c179e\"], [0.4444444444444444, \"#bd3786\"], [0.5555555555555556, \"#d8576b\"], [0.6666666666666666, \"#ed7953\"], [0.7777777777777778, \"#fb9f3a\"], [0.8888888888888888, \"#fdca26\"], [1.0, \"#f0f921\"]], \"type\": \"histogram2d\"}], \"histogram2dcontour\": [{\"colorbar\": {\"outlinewidth\": 0, \"ticks\": \"\"}, \"colorscale\": [[0.0, \"#0d0887\"], [0.1111111111111111, \"#46039f\"], [0.2222222222222222, \"#7201a8\"], [0.3333333333333333, \"#9c179e\"], [0.4444444444444444, \"#bd3786\"], [0.5555555555555556, \"#d8576b\"], [0.6666666666666666, \"#ed7953\"], [0.7777777777777778, \"#fb9f3a\"], [0.8888888888888888, \"#fdca26\"], [1.0, \"#f0f921\"]], \"type\": \"histogram2dcontour\"}], \"mesh3d\": [{\"colorbar\": {\"outlinewidth\": 0, \"ticks\": \"\"}, \"type\": \"mesh3d\"}], \"parcoords\": [{\"line\": {\"colorbar\": {\"outlinewidth\": 0, \"ticks\": \"\"}}, \"type\": \"parcoords\"}], \"pie\": [{\"automargin\": true, \"type\": \"pie\"}], \"scatter\": [{\"marker\": {\"colorbar\": {\"outlinewidth\": 0, \"ticks\": \"\"}}, \"type\": \"scatter\"}], \"scatter3d\": [{\"line\": {\"colorbar\": {\"outlinewidth\": 0, \"ticks\": \"\"}}, \"marker\": {\"colorbar\": {\"outlinewidth\": 0, \"ticks\": \"\"}}, \"type\": \"scatter3d\"}], \"scattercarpet\": [{\"marker\": {\"colorbar\": {\"outlinewidth\": 0, \"ticks\": \"\"}}, \"type\": \"scattercarpet\"}], \"scattergeo\": [{\"marker\": {\"colorbar\": {\"outlinewidth\": 0, \"ticks\": \"\"}}, \"type\": \"scattergeo\"}], \"scattergl\": [{\"marker\": {\"colorbar\": {\"outlinewidth\": 0, \"ticks\": \"\"}}, \"type\": \"scattergl\"}], \"scattermapbox\": [{\"marker\": {\"colorbar\": {\"outlinewidth\": 0, \"ticks\": \"\"}}, \"type\": \"scattermapbox\"}], \"scatterpolar\": [{\"marker\": {\"colorbar\": {\"outlinewidth\": 0, \"ticks\": \"\"}}, \"type\": \"scatterpolar\"}], \"scatterpolargl\": [{\"marker\": {\"colorbar\": {\"outlinewidth\": 0, \"ticks\": \"\"}}, \"type\": \"scatterpolargl\"}], \"scatterternary\": [{\"marker\": {\"colorbar\": {\"outlinewidth\": 0, \"ticks\": \"\"}}, \"type\": \"scatterternary\"}], \"surface\": [{\"colorbar\": {\"outlinewidth\": 0, \"ticks\": \"\"}, \"colorscale\": [[0.0, \"#0d0887\"], [0.1111111111111111, \"#46039f\"], [0.2222222222222222, \"#7201a8\"], [0.3333333333333333, \"#9c179e\"], [0.4444444444444444, \"#bd3786\"], [0.5555555555555556, \"#d8576b\"], [0.6666666666666666, \"#ed7953\"], [0.7777777777777778, \"#fb9f3a\"], [0.8888888888888888, \"#fdca26\"], [1.0, \"#f0f921\"]], \"type\": \"surface\"}], \"table\": [{\"cells\": {\"fill\": {\"color\": \"#EBF0F8\"}, \"line\": {\"color\": \"white\"}}, \"header\": {\"fill\": {\"color\": \"#C8D4E3\"}, \"line\": {\"color\": \"white\"}}, \"type\": \"table\"}]}, \"layout\": {\"annotationdefaults\": {\"arrowcolor\": \"#2a3f5f\", \"arrowhead\": 0, \"arrowwidth\": 1}, \"coloraxis\": {\"colorbar\": {\"outlinewidth\": 0, \"ticks\": \"\"}}, \"colorscale\": {\"diverging\": [[0, \"#8e0152\"], [0.1, \"#c51b7d\"], [0.2, \"#de77ae\"], [0.3, \"#f1b6da\"], [0.4, \"#fde0ef\"], [0.5, \"#f7f7f7\"], [0.6, \"#e6f5d0\"], [0.7, \"#b8e186\"], [0.8, \"#7fbc41\"], [0.9, \"#4d9221\"], [1, \"#276419\"]], \"sequential\": [[0.0, \"#0d0887\"], [0.1111111111111111, \"#46039f\"], [0.2222222222222222, \"#7201a8\"], [0.3333333333333333, \"#9c179e\"], [0.4444444444444444, \"#bd3786\"], [0.5555555555555556, \"#d8576b\"], [0.6666666666666666, \"#ed7953\"], [0.7777777777777778, \"#fb9f3a\"], [0.8888888888888888, \"#fdca26\"], [1.0, \"#f0f921\"]], \"sequentialminus\": [[0.0, \"#0d0887\"], [0.1111111111111111, \"#46039f\"], [0.2222222222222222, \"#7201a8\"], [0.3333333333333333, \"#9c179e\"], [0.4444444444444444, \"#bd3786\"], [0.5555555555555556, \"#d8576b\"], [0.6666666666666666, \"#ed7953\"], [0.7777777777777778, \"#fb9f3a\"], [0.8888888888888888, \"#fdca26\"], [1.0, \"#f0f921\"]]}, \"colorway\": [\"#636efa\", \"#EF553B\", \"#00cc96\", \"#ab63fa\", \"#FFA15A\", \"#19d3f3\", \"#FF6692\", \"#B6E880\", \"#FF97FF\", \"#FECB52\"], \"font\": {\"color\": \"#2a3f5f\"}, \"geo\": {\"bgcolor\": \"white\", \"lakecolor\": \"white\", \"landcolor\": \"#E5ECF6\", \"showlakes\": true, \"showland\": true, \"subunitcolor\": \"white\"}, \"hoverlabel\": {\"align\": \"left\"}, \"hovermode\": \"closest\", \"mapbox\": {\"style\": \"light\"}, \"paper_bgcolor\": \"white\", \"plot_bgcolor\": \"#E5ECF6\", \"polar\": {\"angularaxis\": {\"gridcolor\": \"white\", \"linecolor\": \"white\", \"ticks\": \"\"}, \"bgcolor\": \"#E5ECF6\", \"radialaxis\": {\"gridcolor\": \"white\", \"linecolor\": \"white\", \"ticks\": \"\"}}, \"scene\": {\"xaxis\": {\"backgroundcolor\": \"#E5ECF6\", \"gridcolor\": \"white\", \"gridwidth\": 2, \"linecolor\": \"white\", \"showbackground\": true, \"ticks\": \"\", \"zerolinecolor\": \"white\"}, \"yaxis\": {\"backgroundcolor\": \"#E5ECF6\", \"gridcolor\": \"white\", \"gridwidth\": 2, \"linecolor\": \"white\", \"showbackground\": true, \"ticks\": \"\", \"zerolinecolor\": \"white\"}, \"zaxis\": {\"backgroundcolor\": \"#E5ECF6\", \"gridcolor\": \"white\", \"gridwidth\": 2, \"linecolor\": \"white\", \"showbackground\": true, \"ticks\": \"\", \"zerolinecolor\": \"white\"}}, \"shapedefaults\": {\"line\": {\"color\": \"#2a3f5f\"}}, \"ternary\": {\"aaxis\": {\"gridcolor\": \"white\", \"linecolor\": \"white\", \"ticks\": \"\"}, \"baxis\": {\"gridcolor\": \"white\", \"linecolor\": \"white\", \"ticks\": \"\"}, \"bgcolor\": \"#E5ECF6\", \"caxis\": {\"gridcolor\": \"white\", \"linecolor\": \"white\", \"ticks\": \"\"}}, \"title\": {\"x\": 0.05}, \"xaxis\": {\"automargin\": true, \"gridcolor\": \"white\", \"linecolor\": \"white\", \"ticks\": \"\", \"title\": {\"standoff\": 15}, \"zerolinecolor\": \"white\", \"zerolinewidth\": 2}, \"yaxis\": {\"automargin\": true, \"gridcolor\": \"white\", \"linecolor\": \"white\", \"ticks\": \"\", \"title\": {\"standoff\": 15}, \"zerolinecolor\": \"white\", \"zerolinewidth\": 2}}}, \"title\": {\"text\": \"\\u041f\\u0440\\u043e\\u0433\\u043d\\u043e\\u0437 \\u043f\\u0440\\u043e\\u0434\\u0430\\u0436\"}, \"yaxis\": {\"title\": {\"text\": \"sales\"}}},\n",
       "                        {\"responsive\": true}\n",
       "                    ).then(function(){\n",
       "                            \n",
       "var gd = document.getElementById('253aca88-ebb7-4fdb-b285-c79320003f15');\n",
       "var x = new MutationObserver(function (mutations, observer) {{\n",
       "        var display = window.getComputedStyle(gd).display;\n",
       "        if (!display || display === 'none') {{\n",
       "            console.log([gd, 'removed!']);\n",
       "            Plotly.purge(gd);\n",
       "            observer.disconnect();\n",
       "        }}\n",
       "}});\n",
       "\n",
       "// Listen for the removal of the full notebook cells\n",
       "var notebookContainer = gd.closest('#notebook-container');\n",
       "if (notebookContainer) {{\n",
       "    x.observe(notebookContainer, {childList: true});\n",
       "}}\n",
       "\n",
       "// Listen for the clearing of the current output cell\n",
       "var outputEl = gd.closest('.output');\n",
       "if (outputEl) {{\n",
       "    x.observe(outputEl, {childList: true});\n",
       "}}\n",
       "\n",
       "                        })\n",
       "                };\n",
       "                });\n",
       "            </script>\n",
       "        </div>"
      ]
     },
     "metadata": {},
     "output_type": "display_data"
    }
   ],
   "source": [
    "#Визуализация прогноза\n",
    "init_notebook_mode(connected=True)\n",
    "\n",
    "def show_forecast(cmp_df, num_predictions, num_values, title):   \n",
    "    def create_go(name, column, num, **kwargs):\n",
    "        points = cmp_df.tail(num)\n",
    "        args = dict(name=name, x=points.index, y=points[column], mode='lines')\n",
    "        args.update(kwargs)\n",
    "        return go.Scatter(**args)\n",
    "    \n",
    "    lower_bound = create_go('Нижняя граница', 'yhat_lower', num_predictions,\n",
    "                            line=dict(width=0),\n",
    "                            marker=dict(color=\"aqua\"))\n",
    "    upper_bound = create_go('Вверхняя граница', 'yhat_upper', num_predictions,\n",
    "                            line=dict(width=0),\n",
    "                            marker=dict(color=\"aqua\"),\n",
    "                            fillcolor='rgba(68, 68, 68, 0.3)', \n",
    "                            fill='tonexty')\n",
    "    forecast = create_go('Прогноз', 'yhat', num_predictions,\n",
    "                         line=dict(color='rgb(31, 119, 180)'))\n",
    "    actual = create_go('Факт', 'y', num_values,\n",
    "                       marker=dict(color=\"red\"))\n",
    "    data = [lower_bound, upper_bound, forecast, actual]\n",
    "\n",
    "    layout = go.Layout(yaxis=dict(title='sales'), title=title, showlegend = False)\n",
    "    fig = go.Figure(data=data, layout=layout)\n",
    "    iplot(fig, show_link=False)\n",
    "\n",
    "show_forecast(compare_df, 31, 100, 'Прогноз продаж')"
   ]
  },
  {
   "cell_type": "code",
   "execution_count": 18,
   "metadata": {},
   "outputs": [],
   "source": [
    "split_date = datetime.datetime.strptime(\"2019-11-01\", '%Y-%m-%d')"
   ]
  },
  {
   "cell_type": "code",
   "execution_count": 19,
   "metadata": {},
   "outputs": [],
   "source": [
    "data_test = data[data['date_id'] >= split_date]\n",
    "data_test['store_and_id'] = data.apply(lambda x: f\"{x['ship_store_id']} + {x['good_id']}\", axis=1) \n",
    "                        "
   ]
  },
  {
   "cell_type": "code",
   "execution_count": 20,
   "metadata": {},
   "outputs": [
    {
     "data": {
      "text/html": [
       "<div>\n",
       "<style scoped>\n",
       "    .dataframe tbody tr th:only-of-type {\n",
       "        vertical-align: middle;\n",
       "    }\n",
       "\n",
       "    .dataframe tbody tr th {\n",
       "        vertical-align: top;\n",
       "    }\n",
       "\n",
       "    .dataframe thead th {\n",
       "        text-align: right;\n",
       "    }\n",
       "</style>\n",
       "<table border=\"1\" class=\"dataframe\">\n",
       "  <thead>\n",
       "    <tr style=\"text-align: right;\">\n",
       "      <th></th>\n",
       "      <th>date_id</th>\n",
       "      <th>good_id</th>\n",
       "      <th>ship_store_id</th>\n",
       "      <th>price</th>\n",
       "      <th>promo</th>\n",
       "      <th>sale</th>\n",
       "      <th>promo_price</th>\n",
       "      <th>holiday</th>\n",
       "      <th>owner_id</th>\n",
       "      <th>year</th>\n",
       "      <th>month</th>\n",
       "      <th>day</th>\n",
       "      <th>WeekOfYear</th>\n",
       "      <th>store_and_id</th>\n",
       "    </tr>\n",
       "  </thead>\n",
       "  <tbody>\n",
       "    <tr>\n",
       "      <td>16</td>\n",
       "      <td>2019-11-09</td>\n",
       "      <td>173541</td>\n",
       "      <td>63</td>\n",
       "      <td>1299</td>\n",
       "      <td>0</td>\n",
       "      <td>0</td>\n",
       "      <td>1299</td>\n",
       "      <td>0</td>\n",
       "      <td>2</td>\n",
       "      <td>2019</td>\n",
       "      <td>11</td>\n",
       "      <td>9</td>\n",
       "      <td>45</td>\n",
       "      <td>63 + 173541</td>\n",
       "    </tr>\n",
       "    <tr>\n",
       "      <td>17</td>\n",
       "      <td>2019-11-15</td>\n",
       "      <td>173541</td>\n",
       "      <td>63</td>\n",
       "      <td>1299</td>\n",
       "      <td>0</td>\n",
       "      <td>0</td>\n",
       "      <td>1299</td>\n",
       "      <td>0</td>\n",
       "      <td>2</td>\n",
       "      <td>2019</td>\n",
       "      <td>11</td>\n",
       "      <td>15</td>\n",
       "      <td>46</td>\n",
       "      <td>63 + 173541</td>\n",
       "    </tr>\n",
       "    <tr>\n",
       "      <td>81</td>\n",
       "      <td>2019-11-11</td>\n",
       "      <td>162604</td>\n",
       "      <td>12</td>\n",
       "      <td>899</td>\n",
       "      <td>0</td>\n",
       "      <td>0</td>\n",
       "      <td>5299</td>\n",
       "      <td>0</td>\n",
       "      <td>2</td>\n",
       "      <td>2019</td>\n",
       "      <td>11</td>\n",
       "      <td>11</td>\n",
       "      <td>46</td>\n",
       "      <td>12 + 162604</td>\n",
       "    </tr>\n",
       "    <tr>\n",
       "      <td>82</td>\n",
       "      <td>2019-11-17</td>\n",
       "      <td>162604</td>\n",
       "      <td>12</td>\n",
       "      <td>899</td>\n",
       "      <td>0</td>\n",
       "      <td>0</td>\n",
       "      <td>4999</td>\n",
       "      <td>0</td>\n",
       "      <td>2</td>\n",
       "      <td>2019</td>\n",
       "      <td>11</td>\n",
       "      <td>17</td>\n",
       "      <td>46</td>\n",
       "      <td>12 + 162604</td>\n",
       "    </tr>\n",
       "    <tr>\n",
       "      <td>86</td>\n",
       "      <td>2019-11-14</td>\n",
       "      <td>162604</td>\n",
       "      <td>12</td>\n",
       "      <td>899</td>\n",
       "      <td>0</td>\n",
       "      <td>0</td>\n",
       "      <td>4999</td>\n",
       "      <td>0</td>\n",
       "      <td>2</td>\n",
       "      <td>2019</td>\n",
       "      <td>11</td>\n",
       "      <td>14</td>\n",
       "      <td>46</td>\n",
       "      <td>12 + 162604</td>\n",
       "    </tr>\n",
       "    <tr>\n",
       "      <td>...</td>\n",
       "      <td>...</td>\n",
       "      <td>...</td>\n",
       "      <td>...</td>\n",
       "      <td>...</td>\n",
       "      <td>...</td>\n",
       "      <td>...</td>\n",
       "      <td>...</td>\n",
       "      <td>...</td>\n",
       "      <td>...</td>\n",
       "      <td>...</td>\n",
       "      <td>...</td>\n",
       "      <td>...</td>\n",
       "      <td>...</td>\n",
       "      <td>...</td>\n",
       "    </tr>\n",
       "    <tr>\n",
       "      <td>529555</td>\n",
       "      <td>2019-11-06</td>\n",
       "      <td>96474</td>\n",
       "      <td>39</td>\n",
       "      <td>2599</td>\n",
       "      <td>0</td>\n",
       "      <td>0</td>\n",
       "      <td>0</td>\n",
       "      <td>0</td>\n",
       "      <td>2</td>\n",
       "      <td>2019</td>\n",
       "      <td>11</td>\n",
       "      <td>6</td>\n",
       "      <td>45</td>\n",
       "      <td>39 + 96474</td>\n",
       "    </tr>\n",
       "    <tr>\n",
       "      <td>529556</td>\n",
       "      <td>2019-11-12</td>\n",
       "      <td>96474</td>\n",
       "      <td>39</td>\n",
       "      <td>2599</td>\n",
       "      <td>0</td>\n",
       "      <td>0</td>\n",
       "      <td>0</td>\n",
       "      <td>0</td>\n",
       "      <td>2</td>\n",
       "      <td>2019</td>\n",
       "      <td>11</td>\n",
       "      <td>12</td>\n",
       "      <td>46</td>\n",
       "      <td>39 + 96474</td>\n",
       "    </tr>\n",
       "    <tr>\n",
       "      <td>529569</td>\n",
       "      <td>2019-11-26</td>\n",
       "      <td>149079</td>\n",
       "      <td>77</td>\n",
       "      <td>499</td>\n",
       "      <td>1</td>\n",
       "      <td>2</td>\n",
       "      <td>399</td>\n",
       "      <td>0</td>\n",
       "      <td>9</td>\n",
       "      <td>2019</td>\n",
       "      <td>11</td>\n",
       "      <td>26</td>\n",
       "      <td>48</td>\n",
       "      <td>77 + 149079</td>\n",
       "    </tr>\n",
       "    <tr>\n",
       "      <td>529570</td>\n",
       "      <td>2019-11-20</td>\n",
       "      <td>149079</td>\n",
       "      <td>77</td>\n",
       "      <td>499</td>\n",
       "      <td>0</td>\n",
       "      <td>0</td>\n",
       "      <td>0</td>\n",
       "      <td>0</td>\n",
       "      <td>9</td>\n",
       "      <td>2019</td>\n",
       "      <td>11</td>\n",
       "      <td>20</td>\n",
       "      <td>47</td>\n",
       "      <td>77 + 149079</td>\n",
       "    </tr>\n",
       "    <tr>\n",
       "      <td>529576</td>\n",
       "      <td>2019-11-29</td>\n",
       "      <td>149079</td>\n",
       "      <td>77</td>\n",
       "      <td>499</td>\n",
       "      <td>1</td>\n",
       "      <td>3</td>\n",
       "      <td>399</td>\n",
       "      <td>0</td>\n",
       "      <td>9</td>\n",
       "      <td>2019</td>\n",
       "      <td>11</td>\n",
       "      <td>29</td>\n",
       "      <td>48</td>\n",
       "      <td>77 + 149079</td>\n",
       "    </tr>\n",
       "  </tbody>\n",
       "</table>\n",
       "<p>28396 rows × 14 columns</p>\n",
       "</div>"
      ],
      "text/plain": [
       "          date_id  good_id  ship_store_id  price  promo  sale  promo_price  \\\n",
       "16     2019-11-09   173541             63   1299      0     0         1299   \n",
       "17     2019-11-15   173541             63   1299      0     0         1299   \n",
       "81     2019-11-11   162604             12    899      0     0         5299   \n",
       "82     2019-11-17   162604             12    899      0     0         4999   \n",
       "86     2019-11-14   162604             12    899      0     0         4999   \n",
       "...           ...      ...            ...    ...    ...   ...          ...   \n",
       "529555 2019-11-06    96474             39   2599      0     0            0   \n",
       "529556 2019-11-12    96474             39   2599      0     0            0   \n",
       "529569 2019-11-26   149079             77    499      1     2          399   \n",
       "529570 2019-11-20   149079             77    499      0     0            0   \n",
       "529576 2019-11-29   149079             77    499      1     3          399   \n",
       "\n",
       "        holiday  owner_id  year  month  day  WeekOfYear store_and_id  \n",
       "16            0         2  2019     11    9          45  63 + 173541  \n",
       "17            0         2  2019     11   15          46  63 + 173541  \n",
       "81            0         2  2019     11   11          46  12 + 162604  \n",
       "82            0         2  2019     11   17          46  12 + 162604  \n",
       "86            0         2  2019     11   14          46  12 + 162604  \n",
       "...         ...       ...   ...    ...  ...         ...          ...  \n",
       "529555        0         2  2019     11    6          45   39 + 96474  \n",
       "529556        0         2  2019     11   12          46   39 + 96474  \n",
       "529569        0         9  2019     11   26          48  77 + 149079  \n",
       "529570        0         9  2019     11   20          47  77 + 149079  \n",
       "529576        0         9  2019     11   29          48  77 + 149079  \n",
       "\n",
       "[28396 rows x 14 columns]"
      ]
     },
     "execution_count": 20,
     "metadata": {},
     "output_type": "execute_result"
    }
   ],
   "source": [
    "data_test"
   ]
  },
  {
   "cell_type": "code",
   "execution_count": 21,
   "metadata": {},
   "outputs": [],
   "source": [
    "#Однако при построении прогнозов для группы \"номер магазина\" + \"номер товара\" возникла проблема. \n",
    "#Оптимальные значения гиперпараметров (в нашем случае changepoint_prior_scale и n_changepoints), которые мы\n",
    "#подобрали на агрегированных данных, показали плохой результат с дефолтными параметрами модели FB Prophet.\n",
    "#В связи с тем, что это было бы весьма долго подбирать подходящие гиперпараметры для каждого прогноза, было решено запустить модель на дефолтных параметрах."
   ]
  },
  {
   "cell_type": "code",
   "execution_count": 22,
   "metadata": {},
   "outputs": [],
   "source": [
    "#Создание прогноза\n",
    "#Теперь для создания прогноза по парам \"магазин + товар\" создадим спеицальную функцию.\n",
    "\n",
    "mape_slovar = {}\n",
    "main_slovar_for_sale = {}\n",
    "#модель по магазинам\n",
    "def funcck(data):\n",
    "    #создаем новый столбец - результат конъюкции признаков \"номер магазина\" и \"номер товара\"\n",
    "    data['store_and_id'] = data.apply(lambda x: f\"{x['ship_store_id']} + {x['good_id']}\", axis=1) \n",
    "    #запуск итерации по уникальным значениям столбца (коньюкция номера магазина и номера товара)\n",
    "    for i in data['store_and_id'].unique():\n",
    "        my_model = Prophet(interval_width = 0.95, yearly_seasonality=True, daily_seasonality=True)\n",
    "        #выбираем данные с указанным значением номера магазина и товара\n",
    "        table = data[data['store_and_id'] == i]\n",
    "        #группируем данные по продажам в неделю\n",
    "        table = table.groupby('date_id')['sale'].sum()\n",
    "        #устанавливаем значения индекса датафрейма нашими значениями datetime \n",
    "        table = table.sort_index(ascending = False)\n",
    "        #создаем датафрейм для нашей модели со столбцами ds и y\n",
    "        df = pd.DataFrame({'ds': table.index, 'y': table.values})\n",
    "        #указываем промежуток для временного сплита\n",
    "        split_date = datetime.datetime.strptime(\"2019-11-01\", '%Y-%m-%d')\n",
    "        #делим на тестовую и тренировочную выборку\n",
    "        d_train = df[df['ds'] < split_date]\n",
    "        d_test = df[df['ds'] >= split_date]\n",
    "        #фитим модель\n",
    "        my_model.fit(d_train)\n",
    "        #прогнозируем по новым данным\n",
    "        forecast = my_model.predict(d_test)    \n",
    "        results = d_test.copy()\n",
    "        #выделяем полученные спрогнозированные данные\n",
    "        results['fcst'] = forecast['yhat'].values.round()       \n",
    "        results['fcst'] = abs(results['fcst'])\n",
    "        #находим значение MAPE на каждую неделю прогноза\n",
    "        results['MAPE'] = abs(results['y'] - results['fcst']) / (results[['y','fcst']].max(axis=1) + 0.01)\n",
    "        #находим среднее значение Mape по всему прогнозу магазина + товара\n",
    "        mape = results['MAPE'].sum()/len(results['MAPE'])\n",
    "        mape_slovar[i] = mape\n",
    "        results['time+good+shop'] = results.apply(lambda x: f\"{x['ds']} + {i}\", axis=1)\n",
    "        slovar_for_sales = results.groupby('time+good+shop')['y'].sum().to_dict()\n",
    "        main_slovar_for_sale.update(slovar_for_sales)                                         \n",
    "    data_test['MAPE'] = data_test['store_and_id'].replace(mape_slovar) \n",
    "    data_test['time+good+shop'] = data_test.apply(lambda x: f\"{x['date_id']} + {x['store_and_id']}\", axis=1)\n",
    "    data_test['y'] = data_test['time+good+shop'].replace(main_slovar_for_sale) \n",
    "    return data_test\n",
    "\n",
    "#Используем функцию прогноза на данных\n",
    "end_table = funcck(data)"
   ]
  },
  {
   "cell_type": "code",
   "execution_count": 23,
   "metadata": {},
   "outputs": [],
   "source": [
    "#Выделяем нужные колонки\n",
    "Final = end_table[['good_id','ship_store_id', 'date_id', 'promo', 'sale', 'y']]"
   ]
  },
  {
   "cell_type": "code",
   "execution_count": 24,
   "metadata": {},
   "outputs": [],
   "source": [
    "Final.rename(columns={'y': 'sale_predict'}, inplace=True)"
   ]
  },
  {
   "cell_type": "code",
   "execution_count": 25,
   "metadata": {},
   "outputs": [
    {
     "data": {
      "text/html": [
       "<div>\n",
       "<style scoped>\n",
       "    .dataframe tbody tr th:only-of-type {\n",
       "        vertical-align: middle;\n",
       "    }\n",
       "\n",
       "    .dataframe tbody tr th {\n",
       "        vertical-align: top;\n",
       "    }\n",
       "\n",
       "    .dataframe thead th {\n",
       "        text-align: right;\n",
       "    }\n",
       "</style>\n",
       "<table border=\"1\" class=\"dataframe\">\n",
       "  <thead>\n",
       "    <tr style=\"text-align: right;\">\n",
       "      <th></th>\n",
       "      <th>good_id</th>\n",
       "      <th>ship_store_id</th>\n",
       "      <th>date_id</th>\n",
       "      <th>promo</th>\n",
       "      <th>sale</th>\n",
       "      <th>sale_predict</th>\n",
       "    </tr>\n",
       "  </thead>\n",
       "  <tbody>\n",
       "    <tr>\n",
       "      <td>16</td>\n",
       "      <td>173541</td>\n",
       "      <td>63</td>\n",
       "      <td>2019-11-09</td>\n",
       "      <td>0</td>\n",
       "      <td>0</td>\n",
       "      <td>0</td>\n",
       "    </tr>\n",
       "    <tr>\n",
       "      <td>17</td>\n",
       "      <td>173541</td>\n",
       "      <td>63</td>\n",
       "      <td>2019-11-15</td>\n",
       "      <td>0</td>\n",
       "      <td>0</td>\n",
       "      <td>0</td>\n",
       "    </tr>\n",
       "    <tr>\n",
       "      <td>81</td>\n",
       "      <td>162604</td>\n",
       "      <td>12</td>\n",
       "      <td>2019-11-11</td>\n",
       "      <td>0</td>\n",
       "      <td>0</td>\n",
       "      <td>0</td>\n",
       "    </tr>\n",
       "    <tr>\n",
       "      <td>82</td>\n",
       "      <td>162604</td>\n",
       "      <td>12</td>\n",
       "      <td>2019-11-17</td>\n",
       "      <td>0</td>\n",
       "      <td>0</td>\n",
       "      <td>0</td>\n",
       "    </tr>\n",
       "    <tr>\n",
       "      <td>86</td>\n",
       "      <td>162604</td>\n",
       "      <td>12</td>\n",
       "      <td>2019-11-14</td>\n",
       "      <td>0</td>\n",
       "      <td>0</td>\n",
       "      <td>0</td>\n",
       "    </tr>\n",
       "    <tr>\n",
       "      <td>...</td>\n",
       "      <td>...</td>\n",
       "      <td>...</td>\n",
       "      <td>...</td>\n",
       "      <td>...</td>\n",
       "      <td>...</td>\n",
       "      <td>...</td>\n",
       "    </tr>\n",
       "    <tr>\n",
       "      <td>529555</td>\n",
       "      <td>96474</td>\n",
       "      <td>39</td>\n",
       "      <td>2019-11-06</td>\n",
       "      <td>0</td>\n",
       "      <td>0</td>\n",
       "      <td>0</td>\n",
       "    </tr>\n",
       "    <tr>\n",
       "      <td>529556</td>\n",
       "      <td>96474</td>\n",
       "      <td>39</td>\n",
       "      <td>2019-11-12</td>\n",
       "      <td>0</td>\n",
       "      <td>0</td>\n",
       "      <td>0</td>\n",
       "    </tr>\n",
       "    <tr>\n",
       "      <td>529569</td>\n",
       "      <td>149079</td>\n",
       "      <td>77</td>\n",
       "      <td>2019-11-26</td>\n",
       "      <td>1</td>\n",
       "      <td>2</td>\n",
       "      <td>2</td>\n",
       "    </tr>\n",
       "    <tr>\n",
       "      <td>529570</td>\n",
       "      <td>149079</td>\n",
       "      <td>77</td>\n",
       "      <td>2019-11-20</td>\n",
       "      <td>0</td>\n",
       "      <td>0</td>\n",
       "      <td>0</td>\n",
       "    </tr>\n",
       "    <tr>\n",
       "      <td>529576</td>\n",
       "      <td>149079</td>\n",
       "      <td>77</td>\n",
       "      <td>2019-11-29</td>\n",
       "      <td>1</td>\n",
       "      <td>3</td>\n",
       "      <td>3</td>\n",
       "    </tr>\n",
       "  </tbody>\n",
       "</table>\n",
       "<p>28396 rows × 6 columns</p>\n",
       "</div>"
      ],
      "text/plain": [
       "        good_id  ship_store_id    date_id  promo  sale  sale_predict\n",
       "16       173541             63 2019-11-09      0     0             0\n",
       "17       173541             63 2019-11-15      0     0             0\n",
       "81       162604             12 2019-11-11      0     0             0\n",
       "82       162604             12 2019-11-17      0     0             0\n",
       "86       162604             12 2019-11-14      0     0             0\n",
       "...         ...            ...        ...    ...   ...           ...\n",
       "529555    96474             39 2019-11-06      0     0             0\n",
       "529556    96474             39 2019-11-12      0     0             0\n",
       "529569   149079             77 2019-11-26      1     2             2\n",
       "529570   149079             77 2019-11-20      0     0             0\n",
       "529576   149079             77 2019-11-29      1     3             3\n",
       "\n",
       "[28396 rows x 6 columns]"
      ]
     },
     "execution_count": 25,
     "metadata": {},
     "output_type": "execute_result"
    }
   ],
   "source": [
    "Final"
   ]
  },
  {
   "cell_type": "code",
   "execution_count": 26,
   "metadata": {},
   "outputs": [],
   "source": [
    "#Выгружаем в ексель\n",
    "Final.to_excel(\"Hoff_excel.xlsx\")"
   ]
  },
  {
   "cell_type": "code",
   "execution_count": 27,
   "metadata": {},
   "outputs": [
    {
     "data": {
      "text/plain": [
       "0.5083090805200461"
      ]
     },
     "execution_count": 27,
     "metadata": {},
     "output_type": "execute_result"
    }
   ],
   "source": [
    "#Создаем столбец со значением 1 - MAPE\n",
    "end_table['1 - Mape'] = 1 - end_table['MAPE']\n",
    "#Высчитываем среднее значение параметра 1 - MAPE\n",
    "end_table['1 - Mape'].mean()"
   ]
  },
  {
   "cell_type": "code",
   "execution_count": 28,
   "metadata": {},
   "outputs": [],
   "source": [
    "#Выделяем значения недели\n",
    "end_table['WeekOfYear'] = pd.DatetimeIndex(end_table['date_id']).weekofyear"
   ]
  },
  {
   "cell_type": "code",
   "execution_count": 29,
   "metadata": {},
   "outputs": [
    {
     "data": {
      "text/plain": [
       "array([45, 46, 47, 44, 48], dtype=int64)"
      ]
     },
     "execution_count": 29,
     "metadata": {},
     "output_type": "execute_result"
    }
   ],
   "source": [
    "#4 прогнозируемые недели\n",
    "end_table['WeekOfYear'].unique()"
   ]
  },
  {
   "cell_type": "code",
   "execution_count": 30,
   "metadata": {},
   "outputs": [
    {
     "name": "stdout",
     "output_type": "stream",
     "text": [
      "Номер недели 0.508309080520061\n",
      "Номер недели 0.5083090805200589\n",
      "Номер недели 0.5083090805200599\n",
      "Номер недели 0.5083090805200591\n",
      "Номер недели 0.5083090805200582\n"
     ]
    }
   ],
   "source": [
    "#Значения 1 - Mape для 4 недель\n",
    "for i in end_table['WeekOfYear'].unique():\n",
    "    print('Номер недели', end_table[end_table['WeekOfYear'] == i]['1 - Mape'].mean())"
   ]
  }
 ],
 "metadata": {
  "kernelspec": {
   "display_name": "Python 3",
   "language": "python",
   "name": "python3"
  },
  "language_info": {
   "codemirror_mode": {
    "name": "ipython",
    "version": 3
   },
   "file_extension": ".py",
   "mimetype": "text/x-python",
   "name": "python",
   "nbconvert_exporter": "python",
   "pygments_lexer": "ipython3",
   "version": "3.7.4"
  }
 },
 "nbformat": 4,
 "nbformat_minor": 2
}
